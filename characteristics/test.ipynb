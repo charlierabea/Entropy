{
 "cells": [
  {
   "cell_type": "code",
   "execution_count": 3,
   "metadata": {},
   "outputs": [
    {
     "name": "stdout",
     "output_type": "stream",
     "text": [
      "70554274 549081 128.49520198294968\n"
     ]
    }
   ],
   "source": [
    "import cv2\n",
    "import numpy as np\n",
    "\n",
    "img = cv2.imread('/home/charlie/projects/entropy/preprocessed/binary/gabor_gaussmean/reactive/active/6_1054482-8_20170926_OCT_00000256.bmp_superficial.jpg', cv2.IMREAD_GRAYSCALE)\n",
    "\n",
    "#Apply thresholding to segment blood vessels\n",
    "threshold = 127\n",
    "ret, thresh = cv2.threshold(img, threshold, 255, cv2.THRESH_BINARY)\n",
    "\n",
    "# Calculate vessel density as the proportion of non-zero pixels in the image\n",
    "vessel_pixels = np.sum(img)\n",
    "# Calculate the total number of pixels in the image\n",
    "total_pixels = np.size(img)\n",
    "# Calculate the vessel density as the ratio of vessel pixels to total pixels\n",
    "vessel_density = vessel_pixels / total_pixels\n",
    "\n",
    "print(vessel_pixels, total_pixels, vessel_density)"
   ]
  },
  {
   "cell_type": "code",
   "execution_count": null,
   "metadata": {},
   "outputs": [],
   "source": []
  }
 ],
 "metadata": {
  "kernelspec": {
   "display_name": "base",
   "language": "python",
   "name": "python3"
  },
  "language_info": {
   "codemirror_mode": {
    "name": "ipython",
    "version": 3
   },
   "file_extension": ".py",
   "mimetype": "text/x-python",
   "name": "python",
   "nbconvert_exporter": "python",
   "pygments_lexer": "ipython3",
   "version": "3.9.13"
  },
  "orig_nbformat": 4
 },
 "nbformat": 4,
 "nbformat_minor": 2
}
