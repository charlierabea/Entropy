{
 "cells": [
  {
   "cell_type": "code",
   "execution_count": 1,
   "metadata": {},
   "outputs": [
    {
     "name": "stdout",
     "output_type": "stream",
     "text": [
      "Area:\t0.48330574177580354 square mm\n"
     ]
    }
   ],
   "source": [
    "import cv2\n",
    "import opsfaz as faz\n",
    "import numpy as np\n",
    "import drawfaz as draw\n",
    "\n",
    "input_image = \"/Users/charliethebear/Documents/Lab/Entropy/Presentation/20220825/圖片/318051-6_20170919_318051-6_20170919_OCT_00001160.bmp_superficial.jpg\"\n",
    "\n",
    "# read image\n",
    "image = cv2.imread(input_image,0)\n",
    "size = image.shape\n",
    "\n",
    "# configure parameters\n",
    "mm = 3\n",
    "deep = 0\n",
    "precision = 0.7\n",
    "\n",
    "# call the function\n",
    "faz, area, cnt = faz.detectFAZ(image, mm, deep, precision) \n",
    "#\tOutputs:\n",
    "#\t- faz is a binary image with the region of the FAZ as mask\n",
    "#\t- area is the area of the FAZ\n",
    "#\t- cnt is the contour in opencv that represents the contour of the FAZ\n",
    "\n",
    "\n",
    "\n",
    "# we obtain the faz mask\n",
    "mask = cv2.drawContours(image.copy(), cnt, -1, (50,100,100), -1)\n",
    "cv2.imshow(\"Mask extracted\",faz)\n",
    "cv2.imshow(\"Faz extracted\",mask)\n",
    "faz255 = faz*255\n",
    "cv2.imwrite(\"/Users/charliethebear/Documents/Lab/Entropy/Presentation/20220825/圖片/318051-6_20170919_318051-6_20170919_OCT_00001160.bmp_superficial_faz.jpg\", faz255)\n",
    "\n",
    "cv2.waitKey(1000)\n",
    "cv2.destroyAllWindows()\n",
    "\n",
    "\n",
    "print (\"Area:\t\"+ str(area)+\" square mm\")"
   ]
  },
  {
   "cell_type": "code",
   "execution_count": null,
   "metadata": {},
   "outputs": [],
   "source": [
    "def fill_socket(image):\n",
    "    image_ = image.copy()\n",
    "    h, w = image.shape[:2]\n",
    "    mask = np.zeros((h+2, w+2), np.uint8)\n",
    "    isbreak = False\n",
    "    for i in range(image_.shape[0]):\n",
    "        for j in range(image_.shape[1]):\n",
    "            if(image_[i][j]==0):\n",
    "                seedPoint=(i,j)\n",
    "                isbreak = True\n",
    "                break\n",
    "        if(isbreak):\n",
    "            break\n",
    "    cv2.floodFill(image_, mask,seedPoint, 255)\n",
    "    im_floodfill_inv = cv2.bitwise_not(image_)\n",
    "    image = image | im_floodfill_inv\n",
    "    return image"
   ]
  },
  {
   "cell_type": "code",
   "execution_count": null,
   "metadata": {},
   "outputs": [],
   "source": [
    "def imgmerge(baseimg, coverimg, color = np.array([71, 130, 255, 60])):\n",
    "    coverimg_draw = np.zeros(coverimg.shape+(4,)).astype('uint8')\n",
    "    for i in range(4):\n",
    "        coverimg_draw[:, :, i][coverimg > 0] = color[i]\n",
    "    coverimg_draw = Image.fromarray(coverimg_draw)\n",
    "    final = Image.alpha_composite(baseimg, baseimg)\n",
    "    compose = Image.alpha_composite(final, coverimg_draw)\n",
    "    return compose"
   ]
  }
 ],
 "metadata": {
  "kernelspec": {
   "display_name": "Python 3 (ipykernel)",
   "language": "python",
   "name": "python3"
  },
  "language_info": {
   "codemirror_mode": {
    "name": "ipython",
    "version": 3
   },
   "file_extension": ".py",
   "mimetype": "text/x-python",
   "name": "python",
   "nbconvert_exporter": "python",
   "pygments_lexer": "ipython3",
   "version": "3.8.13"
  }
 },
 "nbformat": 4,
 "nbformat_minor": 4
}
