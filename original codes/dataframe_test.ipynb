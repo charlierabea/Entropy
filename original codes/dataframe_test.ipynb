{
 "cells": [
  {
   "cell_type": "code",
   "execution_count": 3,
   "metadata": {},
   "outputs": [
    {
     "ename": "IndexError",
     "evalue": "list index out of range",
     "output_type": "error",
     "traceback": [
      "\u001b[0;31m---------------------------------------------------------------------------\u001b[0m",
      "\u001b[0;31mIndexError\u001b[0m                                Traceback (most recent call last)",
      "\u001b[0;32m/tmp/ipykernel_14105/793774195.py\u001b[0m in \u001b[0;36m<module>\u001b[0;34m\u001b[0m\n\u001b[1;32m     20\u001b[0m                                                      'inactive_number', 'inactive_process'])\n\u001b[1;32m     21\u001b[0m \u001b[0;34m\u001b[0m\u001b[0m\n\u001b[0;32m---> 22\u001b[0;31m df_reactive_inactive = df_reactive.pivot_table(values=[0][1], \n\u001b[0m\u001b[1;32m     23\u001b[0m                                                \u001b[0mindex\u001b[0m\u001b[0;34m=\u001b[0m\u001b[0;34m[\u001b[0m\u001b[0;34m'active_number'\u001b[0m\u001b[0;34m,\u001b[0m\u001b[0;34m'inactive_number'\u001b[0m\u001b[0;34m]\u001b[0m\u001b[0;34m,\u001b[0m\u001b[0;34m\u001b[0m\u001b[0;34m\u001b[0m\u001b[0m\n\u001b[1;32m     24\u001b[0m                                                columns=['active_process', 'inactive_process'])\n",
      "\u001b[0;31mIndexError\u001b[0m: list index out of range"
     ]
    }
   ],
   "source": [
    "import os\n",
    "import numpy as np\n",
    "import pandas as pd\n",
    "from skimage import io\n",
    "#import util\n",
    "import cv2\n",
    "\n",
    "df_name_reactive = {('6', 'edge_reactive_active', '5', 'edge_reactive_inactive'): [1, 11],\n",
    "               ('6', 'gabor_edge_reactive_active', '5', 'gabor_edge_reactive_inactive'): [2, 22],\n",
    "               ('35', 'edge_reactive_active', '34', 'edge_reactive_inactive'): [3, 33],\n",
    "               ('35', 'gabor_edge_reactive_active', '34', 'gabor_edge_reactive_inactive'): [4, 44],\n",
    "               ('81', 'edge_reactive_active', '80', 'edge_reactive_inactive'): [5, 55],\n",
    "               ('81', 'gabor_edge_reactive_active', '80', 'gabor_edge_reactive_inactive'): [6, 66],\n",
    "               ('91', 'edge_reactive_active', '90', 'edge_reactive_inactive'): [7, 77],\n",
    "               ('91', 'gabor_edge_reactive_active', '90', 'gabor_edge_reactive_inactive'): [8, 88]}\n",
    "\n",
    "df_reactive = pd.DataFrame.from_dict(df_name_reactive, orient='index')\n",
    "df_reactive.index = pd.MultiIndex.from_tuples(df_reactive.index, \n",
    "                                              names=['active_number', 'active_process', \n",
    "                                                     'inactive_number', 'inactive_process'])\n",
    "\n",
    "df_reactive_inactive = df_reactive.pivot_table(values=0, \n",
    "                                               index=['active_number','inactive_number'], \n",
    "                                               columns=['active_process', 'inactive_process'])\n",
    "\n",
    "print(df_reactive_inactive)\n",
    "\n",
    "df_name_desired = (['active_number', 'inactive_number', 'gabor_edge_reactive_active',\n",
    "                    'gabor_edge_reactive_inactive','edge_reactive_active','edge_reactive_inactive'],\n",
    "                   [6,5,1,11,2,22]\n",
    "                   [35,34,3,33,4,44]\n",
    "                   [81,80,5,55,6,66]\n",
    "                   [91,90,7,77,8,88])\n",
    "\n",
    "       "
   ]
  },
  {
   "cell_type": "code",
   "execution_count": null,
   "metadata": {},
   "outputs": [],
   "source": []
  }
 ],
 "metadata": {
  "kernelspec": {
   "display_name": "base",
   "language": "python",
   "name": "python3"
  },
  "language_info": {
   "codemirror_mode": {
    "name": "ipython",
    "version": 3
   },
   "file_extension": ".py",
   "mimetype": "text/x-python",
   "name": "python",
   "nbconvert_exporter": "python",
   "pygments_lexer": "ipython3",
   "version": "3.9.13"
  },
  "orig_nbformat": 4,
  "vscode": {
   "interpreter": {
    "hash": "34747cd2c38f1d7760c39bad676fae01c81c3f9ed55bfb80b18cf5cc6926b871"
   }
  }
 },
 "nbformat": 4,
 "nbformat_minor": 2
}
