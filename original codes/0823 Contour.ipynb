{
 "cells": [
  {
   "cell_type": "code",
   "execution_count": 1,
   "metadata": {},
   "outputs": [
    {
     "name": "stdout",
     "output_type": "stream",
     "text": [
      "4.5.1\n"
     ]
    }
   ],
   "source": [
    "import cv2 \n",
    "import numpy as np\n",
    "print(cv2. __version__)"
   ]
  },
  {
   "cell_type": "code",
   "execution_count": null,
   "metadata": {},
   "outputs": [
    {
     "name": "stdout",
     "output_type": "stream",
     "text": [
      "241\n"
     ]
    }
   ],
   "source": [
    "import cv2 \n",
    "import numpy as np\n",
    "\n",
    "img = cv2.imread(\"/Users/charliethebear/文件/Entropy/Superficial/active/276177-5_20170816_276177-5_20170816_OCT_00001028.bmp_superficial.jpg\")\n",
    "\n",
    "#圖像預處理\n",
    "gray = cv2.cvtColor(img, cv2.COLOR_BGR2GRAY)\n",
    "thresh = cv2.threshold(gray, 75, 255, cv2.THRESH_BINARY)[1]\n",
    "#kernel = cv2.getStructuringElement(cv2.MORPH_ELLIPSE, (3,3))\n",
    "#opening = cv2.morphologyEx(thresh, cv2.MORPH_OPEN, kernel, iterations=1)\n",
    "blurred = cv2.GaussianBlur(thresh, (5, 5), 0)\n",
    "cvt = 255 - thresh\n",
    "\n",
    "\n",
    "#找contour list\n",
    "cnts = cv2.findContours(cvt, cv2.RETR_EXTERNAL, cv2.CHAIN_APPROX_SIMPLE)\n",
    "cnts = cnts[0] if len(cnts) == 2 else cnts[1]\n",
    "cnt_area =[]\n",
    "\n",
    "#去除雜點\n",
    "for c in cnts:\n",
    "    area = cv2.contourArea(c)\n",
    "    cnt_area.append(area)\n",
    "    if area < 15:\n",
    "        cv2.drawContours(cvt, [c], -1, (0,0,0), -1)\n",
    "\n",
    "#找最大contour並填上mask\n",
    "faz_area = np.argmax(cnt_area)\n",
    "print(faz_area)\n",
    "#print(cnts[faz_area])\n",
    "mask = cv2.drawContours(cvt.copy(), cnts, faz_area, (50,50,50), 5)\n",
    "cv2.imshow('opening', thresh)\n",
    "cv2.imshow('faz', mask)\n",
    "cv2.waitKey(100000)\n",
    "\n",
    "#faz = cnt_area.index(faz_area)\n",
    "#print(faz)\n",
    "#cv2.imshow('thresh', thresh)\n",
    "#cv2.imshow('opening', opening)\n",
    "#cv2.waitKey(0)"
   ]
  },
  {
   "cell_type": "code",
   "execution_count": 1,
   "metadata": {},
   "outputs": [
    {
     "data": {
      "text/plain": [
       "'\\n(_, cnts, _) = cv2.findContours(canny.copy(), cv2.RETR_EXTERNAL,\\ncv2.CHAIN_APPROX_SIMPLE)\\n\\nprint(\"I count {} coins in this image\". format(len(cnts)))\\n\\ncontours = image.copy()\\ncv2.drawContours(contours, cnts, -1, (0, 255, 0), 2)\\n\\n# loop over the contours individually\\ncentroid = image.copy()\\nfor c in cnts:\\n\\t# Area\\n\\tprint(cv2.contourArea(c))\\n\\t# perimeter\\n\\tprint(cv2.arcLength(c,True))\\n\\n\\t# centroid from moments\\n\\tM = cv2.moments(c)\\n\\n\\tcx = int(M[\"m10\"]/M[\"m00\"])\\n\\tcy = int(M[\"m01\"]/M[\"m00\"])\\n\\n\\tcv2.circle(centroid, (cx, cy), 5, (0, 0, 255), -1)\\n\\nresult = np.hstack([contours, centroid])\\ncv2.imshow(\"Result:\", result)\\ncv2.waitKey(0)\\n\\n'"
      ]
     },
     "execution_count": 1,
     "metadata": {},
     "output_type": "execute_result"
    }
   ],
   "source": [
    "import cv2\n",
    "import numpy as np\n",
    "\n",
    "image = cv2.imread(\"/Users/charliethebear/文件/Entropy/Superficial/active/276177-5_20170816_276177-5_20170816_OCT_00001028.bmp_superficial.jpg\")\n",
    "\n",
    "gray = cv2.cvtColor(image, cv2.COLOR_BGR2GRAY)\n",
    "\n",
    "\n",
    "blurred = cv2.GaussianBlur(gray, (11, 11), 0)\n",
    "\n",
    "canny = cv2.Canny(gray, 100, 150)\n",
    "#canny_dilate = cv2.dilate(canny, None, iterations=1)\n",
    "#canny_erode = cv2.erode(canny_dilate, None, iterations=1)\n",
    "cv2.imshow(\"blurred:\", blurred)\n",
    "cv2.imshow(\"Canny:\", canny)\n",
    "\n",
    "cv2.waitKey(10000)\n",
    "cv2.destroyAllWindows()\n",
    "'''\n",
    "cnts,_  = cv2.findContours(canny.copy(), cv2.RETR_EXTERNAL,\n",
    "cv2.CHAIN_APPROX_SIMPLE)\n",
    "\n",
    "print(\"I count {} coins in this image\". format(len(cnts)))\n",
    "\n",
    "contours = image.copy()\n",
    "cv2.drawContours(contours, cnts, -1, (0, 255, 0), 2)\n",
    "\n",
    "# loop over the contours individually\n",
    "centroid = image.copy()\n",
    "for c in cnts:\n",
    "\t# Area\n",
    "\tprint(cv2.contourArea(c))\n",
    "\t# perimeter\n",
    "\tprint(cv2.arcLength(c,True))\n",
    "\n",
    "\t# centroid from moments\n",
    "\tM = cv2.moments(c)\n",
    "\n",
    "\tcx = int(M[\"m10\"]/M[\"m00\"])\n",
    "\tcy = int(M[\"m01\"]/M[\"m00\"])\n",
    "\n",
    "\tcv2.circle(centroid, (cx, cy), 5, (0, 0, 255), -1)\n",
    "\n",
    "result = np.hstack([contours, centroid])\n",
    "cv2.imshow(\"Result:\", result)\n",
    "cv2.waitKey(0)\n",
    "\n",
    "'''"
   ]
  },
  {
   "cell_type": "code",
   "execution_count": null,
   "metadata": {},
   "outputs": [],
   "source": []
  }
 ],
 "metadata": {
  "kernelspec": {
   "display_name": "Python 3",
   "language": "python",
   "name": "python3"
  },
  "language_info": {
   "codemirror_mode": {
    "name": "ipython",
    "version": 3
   },
   "file_extension": ".py",
   "mimetype": "text/x-python",
   "name": "python",
   "nbconvert_exporter": "python",
   "pygments_lexer": "ipython3",
   "version": "3.8.5"
  }
 },
 "nbformat": 4,
 "nbformat_minor": 5
}
