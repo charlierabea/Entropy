{
 "cells": [
  {
   "cell_type": "code",
   "execution_count": 6,
   "metadata": {},
   "outputs": [
    {
     "ename": "error",
     "evalue": "OpenCV(4.7.0) /io/opencv/modules/imgproc/src/shapedescr.cpp:315: error: (-215:Assertion failed) npoints >= 0 && (depth == CV_32F || depth == CV_32S) in function 'contourArea'\n",
     "output_type": "error",
     "traceback": [
      "\u001b[0;31m---------------------------------------------------------------------------\u001b[0m",
      "\u001b[0;31merror\u001b[0m                                     Traceback (most recent call last)",
      "\u001b[0;32m/tmp/ipykernel_717330/123544728.py\u001b[0m in \u001b[0;36m<module>\u001b[0;34m\u001b[0m\n\u001b[1;32m     20\u001b[0m \u001b[0;34m\u001b[0m\u001b[0m\n\u001b[1;32m     21\u001b[0m     \u001b[0;31m# call the function\u001b[0m\u001b[0;34m\u001b[0m\u001b[0;34m\u001b[0m\u001b[0m\n\u001b[0;32m---> 22\u001b[0;31m     \u001b[0mfaz_image1\u001b[0m\u001b[0;34m,\u001b[0m \u001b[0marea\u001b[0m\u001b[0;34m,\u001b[0m \u001b[0mcnt\u001b[0m \u001b[0;34m=\u001b[0m \u001b[0mfaz\u001b[0m\u001b[0;34m.\u001b[0m\u001b[0mdetectFAZ\u001b[0m\u001b[0;34m(\u001b[0m\u001b[0mimage1\u001b[0m\u001b[0;34m,\u001b[0m \u001b[0mmm\u001b[0m\u001b[0;34m,\u001b[0m \u001b[0mdeep\u001b[0m\u001b[0;34m,\u001b[0m \u001b[0mprecision\u001b[0m\u001b[0;34m)\u001b[0m\u001b[0;34m\u001b[0m\u001b[0;34m\u001b[0m\u001b[0m\n\u001b[0m\u001b[1;32m     23\u001b[0m     \u001b[0mfaz_image2\u001b[0m\u001b[0;34m,\u001b[0m \u001b[0marea\u001b[0m\u001b[0;34m,\u001b[0m \u001b[0mcnt\u001b[0m \u001b[0;34m=\u001b[0m \u001b[0mfaz\u001b[0m\u001b[0;34m.\u001b[0m\u001b[0mdetectFAZ\u001b[0m\u001b[0;34m(\u001b[0m\u001b[0mimage2\u001b[0m\u001b[0;34m,\u001b[0m \u001b[0mmm\u001b[0m\u001b[0;34m,\u001b[0m \u001b[0mdeep\u001b[0m\u001b[0;34m,\u001b[0m \u001b[0mprecision\u001b[0m\u001b[0;34m)\u001b[0m\u001b[0;34m\u001b[0m\u001b[0;34m\u001b[0m\u001b[0m\n\u001b[1;32m     24\u001b[0m     \u001b[0;31m#   Outputs:\u001b[0m\u001b[0;34m\u001b[0m\u001b[0;34m\u001b[0m\u001b[0m\n",
      "\u001b[0;32m~/projects/entropy/Entropy/original codes/FAZ_Extraction-master/opsfaz.py\u001b[0m in \u001b[0;36mdetectFAZ\u001b[0;34m(imOCTorig, mm, prof, precision)\u001b[0m\n\u001b[1;32m     42\u001b[0m         \u001b[0mcogidos\u001b[0m \u001b[0;34m=\u001b[0m \u001b[0;34m[\u001b[0m\u001b[0;34m]\u001b[0m\u001b[0;34m\u001b[0m\u001b[0;34m\u001b[0m\u001b[0m\n\u001b[1;32m     43\u001b[0m         \u001b[0mcnt\u001b[0m\u001b[0;34m,\u001b[0m\u001b[0mcogidos\u001b[0m \u001b[0;34m=\u001b[0m \u001b[0mhigest_contour\u001b[0m\u001b[0;34m(\u001b[0m\u001b[0mcontours\u001b[0m\u001b[0;34m,\u001b[0m \u001b[0mcogidos\u001b[0m\u001b[0;34m)\u001b[0m\u001b[0;34m\u001b[0m\u001b[0;34m\u001b[0m\u001b[0m\n\u001b[0;32m---> 44\u001b[0;31m         \u001b[0mprint\u001b[0m\u001b[0;34m(\u001b[0m\u001b[0mcnt\u001b[0m\u001b[0;34m)\u001b[0m\u001b[0;34m\u001b[0m\u001b[0;34m\u001b[0m\u001b[0m\n\u001b[0m\u001b[1;32m     45\u001b[0m         \u001b[0mm\u001b[0m \u001b[0;34m=\u001b[0m \u001b[0mcv2\u001b[0m\u001b[0;34m.\u001b[0m\u001b[0mcontourArea\u001b[0m\u001b[0;34m(\u001b[0m\u001b[0mcnt\u001b[0m\u001b[0;34m)\u001b[0m\u001b[0;34m\u001b[0m\u001b[0;34m\u001b[0m\u001b[0m\n\u001b[1;32m     46\u001b[0m         \u001b[0mfazAreainMM\u001b[0m \u001b[0;34m=\u001b[0m \u001b[0mm\u001b[0m\u001b[0;34m*\u001b[0m\u001b[0;34m(\u001b[0m\u001b[0mmm\u001b[0m\u001b[0;34m*\u001b[0m\u001b[0mmm\u001b[0m\u001b[0;34m)\u001b[0m\u001b[0;34m/\u001b[0m\u001b[0;34m(\u001b[0m\u001b[0msize\u001b[0m\u001b[0;34m[\u001b[0m\u001b[0;36m0\u001b[0m\u001b[0;34m]\u001b[0m\u001b[0;34m*\u001b[0m\u001b[0msize\u001b[0m\u001b[0;34m[\u001b[0m\u001b[0;36m1\u001b[0m\u001b[0;34m]\u001b[0m\u001b[0;34m)\u001b[0m\u001b[0;34m\u001b[0m\u001b[0;34m\u001b[0m\u001b[0m\n",
      "\u001b[0;31merror\u001b[0m: OpenCV(4.7.0) /io/opencv/modules/imgproc/src/shapedescr.cpp:315: error: (-215:Assertion failed) npoints >= 0 && (depth == CV_32F || depth == CV_32S) in function 'contourArea'\n"
     ]
    }
   ],
   "source": [
    "import cv2\n",
    "import opsfaz as faz\n",
    "import numpy as np\n",
    "import drawfaz as draw\n",
    "\n",
    "for precision in [0.5]:\n",
    "    input_image1 = \"/home/charlie/projects/entropy/raw/OCTA_Net_1000/treatment/inactive/499_2900821-7_20161013_OCT_00001331.bmp_superficial.jpg\"\n",
    "    input_image2 = \"/home/charlie/projects/entropy/raw/Raw_superficial/reactive/active/104_1296950-5_20161031_OCT_00001000.bmp_superficial.jpg\"\n",
    "\n",
    "    # read image\n",
    "    image1 = cv2.imread(input_image1,0)\n",
    "    size1 = image1.shape\n",
    "    image2 = cv2.imread(input_image2,0)\n",
    "    size2 = image2.shape\n",
    "\n",
    "    # configure parameters\n",
    "    mm = 3\n",
    "    deep = 0\n",
    "    \n",
    "\n",
    "    # call the function\n",
    "    faz_image1, area, cnt = faz.detectFAZ(image1, mm, deep, precision) \n",
    "    faz_image2, area, cnt = faz.detectFAZ(image2, mm, deep, precision) \n",
    "    #\tOutputs:\n",
    "    #\t- faz is a binary image with the region of the FAZ as mask\n",
    "    #\t- area is the area of the FAZ\n",
    "    #\t- cnt is the contour in opencv that represents the contour of the FAZ\n",
    "\n",
    "\n",
    "\n",
    "    # we obtain the faz mask\n",
    "    mask = cv2.drawContours(image.copy(), cnt, -1, (0,0,0), -1)\n",
    "    #cv2.imshow(\"Mask extracted\",faz)\n",
    "    #cv2.imshow(\"Faz extracted\",mask)\n",
    "    faz2551 = faz_image1*255\n",
    "    faz2552 = faz_image2*255\n",
    "    cv2.imwrite(\"/home/charlie/projects/entropy/test/faz1\"+ str(precision) +\".jpg\", faz2551)\n",
    "    cv2.imwrite(\"/home/charlie/projects/entropy/test/faz2\" + str(precision) + \".jpg\", faz2552)\n",
    "    #cv2.waitKey(1000)\n",
    "    #cv2.destroyAllWindows()\n",
    "\n",
    "    #print(type(cnt))\n",
    "    print (\"Area:\t\"+ str(area)+\" square mm\")"
   ]
  },
  {
   "cell_type": "code",
   "execution_count": 3,
   "metadata": {},
   "outputs": [],
   "source": [
    "def fill_socket(image):\n",
    "    image_ = image.copy()\n",
    "    h, w = image.shape[:2]\n",
    "    mask = np.zeros((h+2, w+2), np.uint8)\n",
    "    isbreak = False\n",
    "    for i in range(image_.shape[0]):\n",
    "        for j in range(image_.shape[1]):\n",
    "            if(image_[i][j]==0):\n",
    "                seedPoint=(i,j)\n",
    "                isbreak = True\n",
    "                break\n",
    "        if(isbreak):\n",
    "            break\n",
    "    cv2.floodFill(image_, mask,seedPoint, 255)\n",
    "    im_floodfill_inv = cv2.bitwise_not(image_)\n",
    "    image = image | im_floodfill_inv\n",
    "    return image"
   ]
  },
  {
   "cell_type": "code",
   "execution_count": null,
   "metadata": {},
   "outputs": [],
   "source": [
    "def imgmerge(baseimg, coverimg, color = np.array([71, 130, 255, 60])):\n",
    "    coverimg_draw = np.zeros(coverimg.shape+(4,)).astype('uint8')\n",
    "    for i in range(4):\n",
    "        coverimg_draw[:, :, i][coverimg > 0] = color[i]\n",
    "    coverimg_draw = Image.fromarray(coverimg_draw)\n",
    "    final = Image.alpha_composite(baseimg, baseimg)\n",
    "    compose = Image.alpha_composite(final, coverimg_draw)\n",
    "    return compose"
   ]
  },
  {
   "cell_type": "code",
   "execution_count": 10,
   "metadata": {},
   "outputs": [
    {
     "name": "stdout",
     "output_type": "stream",
     "text": [
      "None\n"
     ]
    },
    {
     "ename": "error",
     "evalue": "OpenCV(4.7.0) /io/opencv/modules/imgproc/src/shapedescr.cpp:315: error: (-215:Assertion failed) npoints >= 0 && (depth == CV_32F || depth == CV_32S) in function 'contourArea'\n",
     "output_type": "error",
     "traceback": [
      "\u001b[0;31m---------------------------------------------------------------------------\u001b[0m",
      "\u001b[0;31merror\u001b[0m                                     Traceback (most recent call last)",
      "\u001b[0;32m/tmp/ipykernel_717330/2286397145.py\u001b[0m in \u001b[0;36m<module>\u001b[0;34m\u001b[0m\n\u001b[1;32m     37\u001b[0m \u001b[0mcnt\u001b[0m\u001b[0;34m,\u001b[0m\u001b[0mcogidos\u001b[0m \u001b[0;34m=\u001b[0m \u001b[0mhigest_contour\u001b[0m\u001b[0;34m(\u001b[0m\u001b[0mcontours\u001b[0m\u001b[0;34m,\u001b[0m \u001b[0mcogidos\u001b[0m\u001b[0;34m)\u001b[0m\u001b[0;34m\u001b[0m\u001b[0;34m\u001b[0m\u001b[0m\n\u001b[1;32m     38\u001b[0m \u001b[0mprint\u001b[0m\u001b[0;34m(\u001b[0m\u001b[0mcnt\u001b[0m\u001b[0;34m)\u001b[0m\u001b[0;34m\u001b[0m\u001b[0;34m\u001b[0m\u001b[0m\n\u001b[0;32m---> 39\u001b[0;31m \u001b[0mm\u001b[0m \u001b[0;34m=\u001b[0m \u001b[0mcv2\u001b[0m\u001b[0;34m.\u001b[0m\u001b[0mcontourArea\u001b[0m\u001b[0;34m(\u001b[0m\u001b[0mcnt\u001b[0m\u001b[0;34m)\u001b[0m\u001b[0;34m\u001b[0m\u001b[0;34m\u001b[0m\u001b[0m\n\u001b[0m\u001b[1;32m     40\u001b[0m \u001b[0mfazAreainMM\u001b[0m \u001b[0;34m=\u001b[0m \u001b[0mm\u001b[0m\u001b[0;34m*\u001b[0m\u001b[0;34m(\u001b[0m\u001b[0mmm\u001b[0m\u001b[0;34m*\u001b[0m\u001b[0mmm\u001b[0m\u001b[0;34m)\u001b[0m\u001b[0;34m/\u001b[0m\u001b[0;34m(\u001b[0m\u001b[0msize\u001b[0m\u001b[0;34m[\u001b[0m\u001b[0;36m0\u001b[0m\u001b[0;34m]\u001b[0m\u001b[0;34m*\u001b[0m\u001b[0msize\u001b[0m\u001b[0;34m[\u001b[0m\u001b[0;36m1\u001b[0m\u001b[0;34m]\u001b[0m\u001b[0;34m)\u001b[0m\u001b[0;34m\u001b[0m\u001b[0;34m\u001b[0m\u001b[0m\n\u001b[1;32m     41\u001b[0m \u001b[0;34m\u001b[0m\u001b[0m\n",
      "\u001b[0;31merror\u001b[0m: OpenCV(4.7.0) /io/opencv/modules/imgproc/src/shapedescr.cpp:315: error: (-215:Assertion failed) npoints >= 0 && (depth == CV_32F || depth == CV_32S) in function 'contourArea'\n"
     ]
    }
   ],
   "source": [
    "# 這是一個check有沒有找到cnt的程式\n",
    "# -*- encoding: utf-8 -*-\n",
    "import cv2\n",
    "import drawfaz as draw\n",
    "import numpy as np\n",
    "from skimage.morphology import skeletonize\n",
    "from util import *\n",
    "\n",
    "input_image1 = \"/home/charlie/projects/entropy/raw/OCTA_Net_1000/treatment/inactive/499_2900821-7_20161013_OCT_00001331.bmp_superficial.jpg\"\n",
    "imOCTorig = cv2.imread(input_image1,0)\n",
    "\n",
    "mm = 3\n",
    "prof = 0\n",
    "size = imOCTorig.shape\n",
    "imOCT = np.zeros((size[0],size[1]),np.float64)\n",
    "if (len(size) > 2):\n",
    "\timOCT[:,:] = imOCTorig[:,:,0] / float(imOCTorig.max())\n",
    "else:\n",
    "\timOCT[:,:] = imOCTorig / float(imOCTorig.max())\n",
    "\n",
    "# tophat\n",
    "ss = ((size[0]/80)*2-mm+3)\n",
    "ss = ss*2-1\n",
    "imOCT = morph('tophat',imOCT,ss)\n",
    "\n",
    "# canny edge detector\n",
    "edges, imClosed = edges_extraction (imOCT,prof,mm,precision)\n",
    "im = imClosed.copy()\n",
    "# mask of the FAZ\n",
    "\t\n",
    "fazMask = find_mask(im,prof,mm)\n",
    "\n",
    "# select the highest candidate\n",
    "image = fazMask.copy()\n",
    "image1 = cv2.convertScaleAbs(image) \n",
    "contours, hierachy = cv2.findContours(image1, cv2.RETR_TREE, cv2.CHAIN_APPROX_SIMPLE)\n",
    "cogidos = []\n",
    "cnt,cogidos = higest_contour(contours, cogidos)\n",
    "print(cnt)\n",
    "m = cv2.contourArea(cnt)\n",
    "fazAreainMM = m*(mm*mm)/(size[0]*size[1])\n",
    "\n",
    "im = np.zeros((size[0],size[1]), np.uint8)\n",
    "cv2.drawContours(im, [cnt], 0, (255,255,255), -1)\n",
    "im = im[:]/255\n",
    "\t\n",
    "# make region growing\n",
    "\t\n",
    "reg = region_growing(imOCT, im*1.0, fazAreainMM, prof, 4, precision)\n",
    "\n",
    "reg = morph ('open', reg, 3)\n",
    "reg = morph ('closed', reg, 3)\n",
    "image1 = cv2.convertScaleAbs(reg) \n",
    "contours, hierachy = cv2.findContours(image1, cv2.RETR_TREE, cv2.CHAIN_APPROX_SIMPLE)\n",
    "cogidos = []\n",
    "cnt,cogidos = higest_contour (contours, cogidos)\n",
    "\n",
    "m = cv2.contourArea(cnt)\n",
    "fazAreainMM = m*(mm*mm)/(size[0]*size[1])\n",
    "\n",
    "octLabel = np.zeros((size[0],size[1],3))\n",
    "octLabel[:,:,0] = imOCT*(1-(reg*0.5)) + reg*0.5\n",
    "octLabel[:,:,1] = imOCT*(1-(reg*0.3)) + reg*0.35\n",
    "octLabel[:,:,2] = imOCT*(1-reg)\n",
    "im = reg[:]\n",
    "faz =  im[:]\n",
    "\n",
    "fazAreainUM = fazAreainMM * 1000\n",
    "fazAreainUM = float(\"{0:.2f}\".format(fazAreainUM))\n",
    "M = cv2.moments(cnt)\n",
    "cx = int(M['m10']/M['m00'])\n",
    "cy = int(M['m01']/M['m00'])\n",
    "\n",
    "imOCT_area = draw.draw_in_image(imOCTorig, fazAreainUM, cnt, (50,50))\n",
    "im_cnt = draw.draw_in_image(imOCTorig, 0, cnt, None)    "
   ]
  },
  {
   "cell_type": "code",
   "execution_count": null,
   "metadata": {},
   "outputs": [],
   "source": []
  }
 ],
 "metadata": {
  "kernelspec": {
   "display_name": "base",
   "language": "python",
   "name": "python3"
  },
  "language_info": {
   "codemirror_mode": {
    "name": "ipython",
    "version": 3
   },
   "file_extension": ".py",
   "mimetype": "text/x-python",
   "name": "python",
   "nbconvert_exporter": "python",
   "pygments_lexer": "ipython3",
   "version": "3.9.13"
  },
  "vscode": {
   "interpreter": {
    "hash": "34747cd2c38f1d7760c39bad676fae01c81c3f9ed55bfb80b18cf5cc6926b871"
   }
  }
 },
 "nbformat": 4,
 "nbformat_minor": 4
}
