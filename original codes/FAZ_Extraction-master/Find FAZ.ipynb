{
 "cells": [
  {
   "cell_type": "code",
   "execution_count": 22,
   "metadata": {},
   "outputs": [
    {
     "ename": "KeyboardInterrupt",
     "evalue": "",
     "output_type": "error",
     "traceback": [
      "\u001b[0;31m---------------------------------------------------------------------------\u001b[0m",
      "\u001b[0;31mKeyboardInterrupt\u001b[0m                         Traceback (most recent call last)",
      "\u001b[0;32m/tmp/ipykernel_416435/1690458671.py\u001b[0m in \u001b[0;36m<module>\u001b[0;34m\u001b[0m\n\u001b[1;32m     20\u001b[0m \u001b[0;34m\u001b[0m\u001b[0m\n\u001b[1;32m     21\u001b[0m     \u001b[0;31m# call the function\u001b[0m\u001b[0;34m\u001b[0m\u001b[0;34m\u001b[0m\u001b[0m\n\u001b[0;32m---> 22\u001b[0;31m     \u001b[0mfaz_image1\u001b[0m\u001b[0;34m,\u001b[0m \u001b[0marea\u001b[0m\u001b[0;34m,\u001b[0m \u001b[0mcnt\u001b[0m \u001b[0;34m=\u001b[0m \u001b[0mfaz\u001b[0m\u001b[0;34m.\u001b[0m\u001b[0mdetectFAZ\u001b[0m\u001b[0;34m(\u001b[0m\u001b[0mimage1\u001b[0m\u001b[0;34m,\u001b[0m \u001b[0mmm\u001b[0m\u001b[0;34m,\u001b[0m \u001b[0mdeep\u001b[0m\u001b[0;34m,\u001b[0m \u001b[0mprecision\u001b[0m\u001b[0;34m)\u001b[0m\u001b[0;34m\u001b[0m\u001b[0;34m\u001b[0m\u001b[0m\n\u001b[0m\u001b[1;32m     23\u001b[0m     \u001b[0mfaz_image2\u001b[0m\u001b[0;34m,\u001b[0m \u001b[0marea\u001b[0m\u001b[0;34m,\u001b[0m \u001b[0mcnt\u001b[0m \u001b[0;34m=\u001b[0m \u001b[0mfaz\u001b[0m\u001b[0;34m.\u001b[0m\u001b[0mdetectFAZ\u001b[0m\u001b[0;34m(\u001b[0m\u001b[0mimage2\u001b[0m\u001b[0;34m,\u001b[0m \u001b[0mmm\u001b[0m\u001b[0;34m,\u001b[0m \u001b[0mdeep\u001b[0m\u001b[0;34m,\u001b[0m \u001b[0mprecision\u001b[0m\u001b[0;34m)\u001b[0m\u001b[0;34m\u001b[0m\u001b[0;34m\u001b[0m\u001b[0m\n\u001b[1;32m     24\u001b[0m     \u001b[0;31m#   Outputs:\u001b[0m\u001b[0;34m\u001b[0m\u001b[0;34m\u001b[0m\u001b[0m\n",
      "\u001b[0;32m~/projects/entropy/Entropy/original codes/FAZ_Extraction-master/opsfaz.py\u001b[0m in \u001b[0;36mdetectFAZ\u001b[0;34m(imOCTorig, mm, prof, precision)\u001b[0m\n\u001b[1;32m     51\u001b[0m         \u001b[0;31m# make region growing\u001b[0m\u001b[0;34m\u001b[0m\u001b[0;34m\u001b[0m\u001b[0m\n\u001b[1;32m     52\u001b[0m \u001b[0;34m\u001b[0m\u001b[0m\n\u001b[0;32m---> 53\u001b[0;31m         \u001b[0mreg\u001b[0m \u001b[0;34m=\u001b[0m \u001b[0mregion_growing\u001b[0m\u001b[0;34m(\u001b[0m\u001b[0mimOCT\u001b[0m\u001b[0;34m,\u001b[0m \u001b[0mim\u001b[0m\u001b[0;34m*\u001b[0m\u001b[0;36m1.0\u001b[0m\u001b[0;34m,\u001b[0m \u001b[0mfazAreainMM\u001b[0m\u001b[0;34m,\u001b[0m \u001b[0mprof\u001b[0m\u001b[0;34m,\u001b[0m \u001b[0;36m4\u001b[0m\u001b[0;34m,\u001b[0m \u001b[0mprecision\u001b[0m\u001b[0;34m)\u001b[0m\u001b[0;34m\u001b[0m\u001b[0;34m\u001b[0m\u001b[0m\n\u001b[0m\u001b[1;32m     54\u001b[0m \u001b[0;34m\u001b[0m\u001b[0m\n\u001b[1;32m     55\u001b[0m         \u001b[0mreg\u001b[0m \u001b[0;34m=\u001b[0m \u001b[0mmorph\u001b[0m \u001b[0;34m(\u001b[0m\u001b[0;34m'open'\u001b[0m\u001b[0;34m,\u001b[0m \u001b[0mreg\u001b[0m\u001b[0;34m,\u001b[0m \u001b[0;36m3\u001b[0m\u001b[0;34m)\u001b[0m\u001b[0;34m\u001b[0m\u001b[0;34m\u001b[0m\u001b[0m\n",
      "\u001b[0;32m~/projects/entropy/Entropy/original codes/FAZ_Extraction-master/util.py\u001b[0m in \u001b[0;36mregion_growing\u001b[0;34m(imOr, reg, area, prof, conn, precision)\u001b[0m\n\u001b[1;32m    272\u001b[0m                         \u001b[0;32melse\u001b[0m\u001b[0;34m:\u001b[0m\u001b[0;34m\u001b[0m\u001b[0;34m\u001b[0m\u001b[0m\n\u001b[1;32m    273\u001b[0m                                 \u001b[0mreg\u001b[0m \u001b[0;34m=\u001b[0m \u001b[0mexpand\u001b[0m\u001b[0;34m(\u001b[0m\u001b[0melemento\u001b[0m\u001b[0;34m,\u001b[0m\u001b[0mreg\u001b[0m\u001b[0;34m,\u001b[0m\u001b[0mimOr\u001b[0m\u001b[0;34m,\u001b[0m\u001b[0mmedia_region\u001b[0m\u001b[0;34m,\u001b[0m\u001b[0mprecision\u001b[0m\u001b[0;34m,\u001b[0m\u001b[0mconn\u001b[0m\u001b[0;34m)\u001b[0m\u001b[0;34m\u001b[0m\u001b[0;34m\u001b[0m\u001b[0m\n\u001b[0;32m--> 274\u001b[0;31m                 \u001b[0melementos_nuevo\u001b[0m \u001b[0;34m=\u001b[0m \u001b[0mcontar\u001b[0m \u001b[0;34m(\u001b[0m\u001b[0mreg\u001b[0m\u001b[0;34m,\u001b[0m\u001b[0;36m1\u001b[0m\u001b[0;34m)\u001b[0m\u001b[0;34m\u001b[0m\u001b[0;34m\u001b[0m\u001b[0m\n\u001b[0m\u001b[1;32m    275\u001b[0m                 \u001b[0;32mif\u001b[0m \u001b[0melementos\u001b[0m \u001b[0;34m==\u001b[0m \u001b[0melementos_nuevo\u001b[0m\u001b[0;34m:\u001b[0m\u001b[0;34m\u001b[0m\u001b[0;34m\u001b[0m\u001b[0m\n\u001b[1;32m    276\u001b[0m                         \u001b[0mseguir\u001b[0m \u001b[0;34m=\u001b[0m \u001b[0;32mFalse\u001b[0m\u001b[0;34m\u001b[0m\u001b[0;34m\u001b[0m\u001b[0m\n",
      "\u001b[0;32m~/projects/entropy/Entropy/original codes/FAZ_Extraction-master/util.py\u001b[0m in \u001b[0;36mcontar\u001b[0;34m(im, value)\u001b[0m\n\u001b[1;32m    226\u001b[0m         \u001b[0;32mfor\u001b[0m \u001b[0mi\u001b[0m \u001b[0;32min\u001b[0m \u001b[0mrange\u001b[0m\u001b[0;34m(\u001b[0m\u001b[0mim\u001b[0m\u001b[0;34m.\u001b[0m\u001b[0mshape\u001b[0m\u001b[0;34m[\u001b[0m\u001b[0;36m0\u001b[0m\u001b[0;34m]\u001b[0m\u001b[0;34m)\u001b[0m\u001b[0;34m:\u001b[0m\u001b[0;34m\u001b[0m\u001b[0;34m\u001b[0m\u001b[0m\n\u001b[1;32m    227\u001b[0m                 \u001b[0;32mfor\u001b[0m \u001b[0mj\u001b[0m \u001b[0;32min\u001b[0m \u001b[0mrange\u001b[0m\u001b[0;34m(\u001b[0m\u001b[0mim\u001b[0m\u001b[0;34m.\u001b[0m\u001b[0mshape\u001b[0m\u001b[0;34m[\u001b[0m\u001b[0;36m1\u001b[0m\u001b[0;34m]\u001b[0m\u001b[0;34m)\u001b[0m\u001b[0;34m:\u001b[0m\u001b[0;34m\u001b[0m\u001b[0;34m\u001b[0m\u001b[0m\n\u001b[0;32m--> 228\u001b[0;31m                         \u001b[0;32mif\u001b[0m \u001b[0mim\u001b[0m\u001b[0;34m[\u001b[0m\u001b[0mi\u001b[0m\u001b[0;34m,\u001b[0m\u001b[0mj\u001b[0m\u001b[0;34m]\u001b[0m \u001b[0;34m==\u001b[0m \u001b[0mvalue\u001b[0m\u001b[0;34m:\u001b[0m\u001b[0;34m\u001b[0m\u001b[0;34m\u001b[0m\u001b[0m\n\u001b[0m\u001b[1;32m    229\u001b[0m                                 \u001b[0mcont\u001b[0m \u001b[0;34m+=\u001b[0m \u001b[0;36m1\u001b[0m\u001b[0;34m\u001b[0m\u001b[0;34m\u001b[0m\u001b[0m\n\u001b[1;32m    230\u001b[0m         \u001b[0;32mreturn\u001b[0m \u001b[0mcont\u001b[0m\u001b[0;34m\u001b[0m\u001b[0;34m\u001b[0m\u001b[0m\n",
      "\u001b[0;31mKeyboardInterrupt\u001b[0m: "
     ]
    }
   ],
   "source": [
    "import cv2\n",
    "import opsfaz as faz\n",
    "import numpy as np\n",
    "import drawfaz as draw\n",
    "\n",
    "for precision in [0.5, 0.7, 0.8, 0.9]:\n",
    "    input_image1 = \"/home/charlie/projects/entropy/raw/Raw_superficial/reactive/inactive/80_1244610-5_20170221_OCT_00000223.bmp_superficial.jpg\"\n",
    "    input_image2 = \"/home/charlie/projects/entropy/raw/Raw_superficial/reactive/inactive/101_1296950-5_20160815_OCT_00001009.bmp_superficial.jpg\"\n",
    "\n",
    "    # read image\n",
    "    image1 = cv2.imread(input_image1,0)\n",
    "    size1 = image1.shape\n",
    "    image2 = cv2.imread(input_image2,0)\n",
    "    size2 = image2.shape\n",
    "\n",
    "    # configure parameters\n",
    "    mm = 3\n",
    "    deep = 0\n",
    "    \n",
    "\n",
    "    # call the function\n",
    "    faz_image1, area, cnt = faz.detectFAZ(image1, mm, deep, precision) \n",
    "    faz_image2, area, cnt = faz.detectFAZ(image2, mm, deep, precision) \n",
    "    #\tOutputs:\n",
    "    #\t- faz is a binary image with the region of the FAZ as mask\n",
    "    #\t- area is the area of the FAZ\n",
    "    #\t- cnt is the contour in opencv that represents the contour of the FAZ\n",
    "\n",
    "\n",
    "\n",
    "    # we obtain the faz mask\n",
    "    #mask = cv2.drawContours(image.copy(), cnt, -1, (0,0,0), -1)\n",
    "    #cv2.imshow(\"Mask extracted\",faz)\n",
    "    #cv2.imshow(\"Faz extracted\",mask)\n",
    "    faz2551 = faz_image1*255\n",
    "    faz2552 = faz_image2*255\n",
    "    cv2.imwrite(\"/home/charlie/projects/entropy/test/faz80_\"+ str(precision) +\".jpg\", faz2551)\n",
    "    cv2.imwrite(\"/home/charlie/projects/entropy/test/faz101_\" + str(precision) + \".jpg\", faz2552)\n",
    "    #cv2.waitKey(1000)\n",
    "    #cv2.destroyAllWindows()\n",
    "\n",
    "    #print(type(cnt))\n",
    "    print (\"Area:\t\"+ str(area)+\" square mm\")"
   ]
  },
  {
   "cell_type": "code",
   "execution_count": null,
   "metadata": {},
   "outputs": [],
   "source": [
    "import cv2\n",
    "import opsfaz as faz\n",
    "import numpy as np\n",
    "import drawfaz as draw\n",
    "\n",
    "\n",
    "input_image1 = \"/home/charlie/projects/entropy/raw/Raw_superficial/reactive/inactive/34_1172576-1_20170620_OCT_00002588.bmp_superficial.jpg\"\n",
    "\n",
    "    # read image\n",
    "image1 = cv2.imread(input_image1,0)\n",
    "size1 = image1.shape\n",
    "\n",
    "\n",
    "    # configure parameters\n",
    "mm = 3\n",
    "deep = 0\n",
    "precision = 0.5\n",
    "    \n",
    "\n",
    "    # call the function\n",
    "faz_image1, area, cnt = faz.detectFAZ(image1, mm, deep, precision) \n",
    "\n",
    "    #\tOutputs:\n",
    "    #\t- faz is a binary image with the region of the FAZ as mask\n",
    "    #\t- area is the area of the FAZ\n",
    "    #\t- cnt is the contour in opencv that represents the contour of the FAZ\n",
    "\n",
    "\n",
    "\n",
    "    # we obtain the faz mask\n",
    "    #mask = cv2.drawContours(image.copy(), cnt, -1, (0,0,0), -1)\n",
    "    #cv2.imshow(\"Mask extracted\",faz)\n",
    "    #cv2.imshow(\"Faz extracted\",mask)\n",
    "faz2551 = faz_image1*255\n",
    "\n",
    "faz2552 = fill_socket(faz_image1)\n",
    "    \n",
    "cv2.imwrite(\"/home/charlie/projects/entropy/test/faz34_ori.jpg\", faz2551)\n",
    "cv2.imwrite(\"/home/charlie/projects/entropy/test/faz34_fill.jpg\", faz2552)\n",
    "\n",
    "    \n",
    "    #cv2.waitKey(1000)\n",
    "    #cv2.destroyAllWindows()\n",
    "\n",
    "    #print(type(cnt))\n",
    "print (\"Area:\t\"+ str(area)+\" square mm\")"
   ]
  },
  {
   "cell_type": "code",
   "execution_count": null,
   "metadata": {},
   "outputs": [],
   "source": [
    "def fill_socket(image):\n",
    "    image_ = image.copy()\n",
    "    h, w = image.shape[:2]\n",
    "    mask = np.zeros((h+2, w+2), np.uint8)\n",
    "    isbreak = False\n",
    "    for i in range(image_.shape[0]):\n",
    "        for j in range(image_.shape[1]):\n",
    "            if(image_[i][j]==0):\n",
    "                seedPoint=(i,j)\n",
    "                isbreak = True\n",
    "                break\n",
    "        if(isbreak):\n",
    "            break\n",
    "    cv2.floodFill(image_, mask,seedPoint, 255)\n",
    "    im_floodfill_inv = cv2.bitwise_not(image_.astype(np.uint8))\n",
    "    image = image.astype(np.uint8) | im_floodfill_inv\n",
    "    return image"
   ]
  },
  {
   "cell_type": "code",
   "execution_count": null,
   "metadata": {},
   "outputs": [],
   "source": [
    "def imgmerge(baseimg, coverimg, color = np.array([71, 130, 255, 60])):\n",
    "    coverimg_draw = np.zeros(coverimg.shape+(4,)).astype('uint8')\n",
    "    for i in range(4):\n",
    "        coverimg_draw[:, :, i][coverimg > 0] = color[i]\n",
    "    coverimg_draw = Image.fromarray(coverimg_draw)\n",
    "    final = Image.alpha_composite(baseimg, baseimg)\n",
    "    compose = Image.alpha_composite(final, coverimg_draw)\n",
    "    return compose"
   ]
  }
 ],
 "metadata": {
  "kernelspec": {
   "display_name": "base",
   "language": "python",
   "name": "python3"
  },
  "language_info": {
   "codemirror_mode": {
    "name": "ipython",
    "version": 3
   },
   "file_extension": ".py",
   "mimetype": "text/x-python",
   "name": "python",
   "nbconvert_exporter": "python",
   "pygments_lexer": "ipython3",
   "version": "3.9.13"
  },
  "vscode": {
   "interpreter": {
    "hash": "34747cd2c38f1d7760c39bad676fae01c81c3f9ed55bfb80b18cf5cc6926b871"
   }
  }
 },
 "nbformat": 4,
 "nbformat_minor": 4
}
