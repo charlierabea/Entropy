{
 "cells": [
  {
   "cell_type": "code",
   "execution_count": 2,
   "metadata": {},
   "outputs": [
    {
     "name": "stdout",
     "output_type": "stream",
     "text": [
      "Area:\t0.3797554459178154 square mm\n",
      "Area:\t0.588339425330689 square mm\n",
      "Area:\t0.7528233539313872 square mm\n",
      "Area:\t0.8574718484158075 square mm\n"
     ]
    }
   ],
   "source": [
    "import cv2\n",
    "import opsfaz as faz\n",
    "import numpy as np\n",
    "import drawfaz as draw\n",
    "\n",
    "for precision in [0.5, 0.7, 0.8, 0.9]:\n",
    "    input_image1 = \"/home/charlie/projects/entropy/raw/Raw_superficial/reactive/inactive/80_1244610-5_20170221_OCT_00000223.bmp_superficial.jpg\"\n",
    "    input_image2 = \"/home/charlie/projects/entropy/raw/Raw_superficial/reactive/inactive/101_1296950-5_20160815_OCT_00001009.bmp_superficial.jpg\"\n",
    "\n",
    "    # read image\n",
    "    image1 = cv2.imread(input_image1,0)\n",
    "    size1 = image1.shape\n",
    "    image2 = cv2.imread(input_image2,0)\n",
    "    size2 = image2.shape\n",
    "\n",
    "    # configure parameters\n",
    "    mm = 3\n",
    "    deep = 0\n",
    "    \n",
    "\n",
    "    # call the function\n",
    "    faz_image1, area, cnt = faz.detectFAZ(image1, mm, deep, precision) \n",
    "    faz_image2, area, cnt = faz.detectFAZ(image2, mm, deep, precision) \n",
    "    #\tOutputs:\n",
    "    #\t- faz is a binary image with the region of the FAZ as mask\n",
    "    #\t- area is the area of the FAZ\n",
    "    #\t- cnt is the contour in opencv that represents the contour of the FAZ\n",
    "\n",
    "\n",
    "\n",
    "    # we obtain the faz mask\n",
    "    #mask = cv2.drawContours(image.copy(), cnt, -1, (0,0,0), -1)\n",
    "    #cv2.imshow(\"Mask extracted\",faz)\n",
    "    #cv2.imshow(\"Faz extracted\",mask)\n",
    "    faz2551 = faz_image1*255\n",
    "    faz2552 = faz_image2*255\n",
    "    cv2.imwrite(\"/home/charlie/projects/entropy/test/faz80_\"+ str(precision) +\".jpg\", faz2551)\n",
    "    cv2.imwrite(\"/home/charlie/projects/entropy/test/faz101_\" + str(precision) + \".jpg\", faz2552)\n",
    "    #cv2.waitKey(1000)\n",
    "    #cv2.destroyAllWindows()\n",
    "\n",
    "    #print(type(cnt))\n",
    "    print (\"Area:\t\"+ str(area)+\" square mm\")"
   ]
  },
  {
   "cell_type": "code",
   "execution_count": 10,
   "metadata": {},
   "outputs": [
    {
     "name": "stdout",
     "output_type": "stream",
     "text": [
      "Area:\t0.368199773803865 square mm\n"
     ]
    }
   ],
   "source": [
    "import cv2\n",
    "import opsfaz as faz\n",
    "import numpy as np\n",
    "import drawfaz as draw\n",
    "\n",
    "\n",
    "input_image1 = \"/home/charlie/projects/entropy/raw/Raw_superficial/reactive/inactive/34_1172576-1_20170620_OCT_00002588.bmp_superficial.jpg\"\n",
    "\n",
    "    # read image\n",
    "image1 = cv2.imread(input_image1,0)\n",
    "size1 = image1.shape\n",
    "\n",
    "\n",
    "    # configure parameters\n",
    "mm = 3\n",
    "deep = 0\n",
    "precision = 0.5\n",
    "    \n",
    "\n",
    "    # call the function\n",
    "faz_image1, area, cnt = faz.detectFAZ(image1, mm, deep, precision) \n",
    "\n",
    "    #\tOutputs:\n",
    "    #\t- faz is a binary image with the region of the FAZ as mask\n",
    "    #\t- area is the area of the FAZ\n",
    "    #\t- cnt is the contour in opencv that represents the contour of the FAZ\n",
    "\n",
    "\n",
    "\n",
    "    # we obtain the faz mask\n",
    "    #mask = cv2.drawContours(image.copy(), cnt, -1, (0,0,0), -1)\n",
    "    #cv2.imshow(\"Mask extracted\",faz)\n",
    "    #cv2.imshow(\"Faz extracted\",mask)\n",
    "faz2551 = faz_image1*255\n",
    "faz2552 = fill_socket(faz2551)\n",
    "    \n",
    "cv2.imwrite(\"/home/charlie/projects/entropy/test/faz34_ori.jpg\", faz2551)\n",
    "cv2.imwrite(\"/home/charlie/projects/entropy/test/faz34_fill.jpg\", faz2552)\n",
    "\n",
    "    \n",
    "    #cv2.waitKey(1000)\n",
    "    #cv2.destroyAllWindows()\n",
    "\n",
    "    #print(type(cnt))\n",
    "print (\"Area:\t\"+ str(area)+\" square mm\")"
   ]
  },
  {
   "cell_type": "code",
   "execution_count": 8,
   "metadata": {},
   "outputs": [],
   "source": [
    "def fill_socket(image):\n",
    "    image_ = image.copy()\n",
    "    h, w = image.shape[:2]\n",
    "    mask = np.zeros((h+2, w+2), np.uint8)\n",
    "    isbreak = False\n",
    "    for i in range(image_.shape[0]):\n",
    "        for j in range(image_.shape[1]):\n",
    "            if(image_[i][j]==0):\n",
    "                seedPoint=(i,j)\n",
    "                isbreak = True\n",
    "                break\n",
    "        if(isbreak):\n",
    "            break\n",
    "    cv2.floodFill(image_, mask,seedPoint, 255)\n",
    "    im_floodfill_inv = cv2.bitwise_not(image_.astype(np.uint8))\n",
    "    image = image.astype(np.uint8) | im_floodfill_inv\n",
    "    return image"
   ]
  },
  {
   "cell_type": "code",
   "execution_count": null,
   "metadata": {},
   "outputs": [],
   "source": [
    "def imgmerge(baseimg, coverimg, color = np.array([71, 130, 255, 60])):\n",
    "    coverimg_draw = np.zeros(coverimg.shape+(4,)).astype('uint8')\n",
    "    for i in range(4):\n",
    "        coverimg_draw[:, :, i][coverimg > 0] = color[i]\n",
    "    coverimg_draw = Image.fromarray(coverimg_draw)\n",
    "    final = Image.alpha_composite(baseimg, baseimg)\n",
    "    compose = Image.alpha_composite(final, coverimg_draw)\n",
    "    return compose"
   ]
  }
 ],
 "metadata": {
  "kernelspec": {
   "display_name": "base",
   "language": "python",
   "name": "python3"
  },
  "language_info": {
   "codemirror_mode": {
    "name": "ipython",
    "version": 3
   },
   "file_extension": ".py",
   "mimetype": "text/x-python",
   "name": "python",
   "nbconvert_exporter": "python",
   "pygments_lexer": "ipython3",
   "version": "3.9.13"
  },
  "vscode": {
   "interpreter": {
    "hash": "34747cd2c38f1d7760c39bad676fae01c81c3f9ed55bfb80b18cf5cc6926b871"
   }
  }
 },
 "nbformat": 4,
 "nbformat_minor": 4
}
