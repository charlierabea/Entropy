{
 "cells": [
  {
   "cell_type": "code",
   "execution_count": 1,
   "metadata": {},
   "outputs": [
    {
     "ename": "SyntaxError",
     "evalue": "invalid syntax (<ipython-input-1-c5493d5a18ea>, line 1)",
     "output_type": "error",
     "traceback": [
      "\u001b[0;36m  File \u001b[0;32m\"<ipython-input-1-c5493d5a18ea>\"\u001b[0;36m, line \u001b[0;32m1\u001b[0m\n\u001b[0;31m    cv::Mat kernel = cv::getGaborKernel(cv::Size(kernel_size,kernel_size), sig, th, lm, gm, ps);\u001b[0m\n\u001b[0m       ^\u001b[0m\n\u001b[0;31mSyntaxError\u001b[0m\u001b[0;31m:\u001b[0m invalid syntax\n"
     ]
    }
   ],
   "source": [
    "\n",
    "cv::Mat kernel = cv::getGaborKernel(cv::Size(kernel_size,kernel_size), sig, th, lm, gm, ps);"
   ]
  },
  {
   "cell_type": "code",
   "execution_count": null,
   "metadata": {},
   "outputs": [],
   "source": [
    "cv::filter2D(src_f, dest, CV_32F, kernel);"
   ]
  },
  {
   "cell_type": "code",
   "execution_count": 2,
   "metadata": {},
   "outputs": [
    {
     "ename": "SyntaxError",
     "evalue": "invalid syntax (<ipython-input-2-83238591f6bf>, line 1)",
     "output_type": "error",
     "traceback": [
      "\u001b[0;36m  File \u001b[0;32m\"<ipython-input-2-83238591f6bf>\"\u001b[0;36m, line \u001b[0;32m1\u001b[0m\n\u001b[0;31m    Mat in = imread(\"/Users/charliethebear/Documents/Lab/Entropy/Raw/superficial.tif\",0);          // load grayscale\u001b[0m\n\u001b[0m           ^\u001b[0m\n\u001b[0;31mSyntaxError\u001b[0m\u001b[0;31m:\u001b[0m invalid syntax\n"
     ]
    }
   ],
   "source": [
    "Mat in = imread(\"/Users/charliethebear/Documents/Lab/Entropy/Raw/superficial.tif\",0);          // load grayscale\n",
    "Mat dest;\n",
    "Mat src_f;\n",
    "in.convertTo(src_f,CV_32F);\n",
    "\n",
    "int kernel_size = 31;\n",
    "double sig = 1, th = 0, lm = 1.0, gm = 0.02, ps = 0;\n",
    "cv::Mat kernel = cv::getGaborKernel(cv::Size(kernel_size,kernel_size), sig, th, lm, gm, ps);\n",
    "cv::filter2D(src_f, dest, CV_32F, kernel);\n",
    "\n",
    "cerr << dest(Rect(30,30,10,10)) << endl; // peek into the data\n",
    "\n",
    "Mat viz;\n",
    "dest.convertTo(viz,CV_8U,1.0/255.0);     // move to proper[0..255] range to show it\n",
    "imshow(\"k\",kernel);\n",
    "imshow(\"d\",viz);\n",
    "waitKey();"
   ]
  },
  {
   "cell_type": "code",
   "execution_count": 4,
   "metadata": {},
   "outputs": [
    {
     "data": {
      "text/plain": [
       "-1"
      ]
     },
     "execution_count": 4,
     "metadata": {},
     "output_type": "execute_result"
    },
    {
     "data": {
      "text/plain": [
       "<Figure size 640x480 with 0 Axes>"
      ]
     },
     "metadata": {},
     "output_type": "display_data"
    }
   ],
   "source": [
    "import cv2\n",
    "import numpy as np\n",
    "import matplotlib.pyplot as plt\n",
    "\n",
    "# Grayscale\n",
    "def BGR2GRAY(img):\n",
    "    # Grayscale\n",
    "    gray = 0.2126 * img[..., 2] + 0.7152 * img[..., 1] + 0.0722 * img[..., 0]\n",
    "    return gray\n",
    "\n",
    "# Gabor\n",
    "def Gabor_filter(K_size=111, Sigma=10, Gamma=1.2, Lambda=10, Psi=0, angle=0):\n",
    "    # get half size\n",
    "    d = K_size // 2\n",
    "\n",
    "    # prepare kernel\n",
    "    gabor = np.zeros((K_size, K_size), dtype=np.float32)\n",
    "\n",
    "    # each value\n",
    "    for y in range(K_size):\n",
    "        for x in range(K_size):\n",
    "            # distance from center\n",
    "            px = x - d\n",
    "            py = y - d\n",
    "\n",
    "            # degree -> radian\n",
    "            theta = angle / 180. * np.pi\n",
    "\n",
    "            # get kernel x\n",
    "            _x = np.cos(theta) * px + np.sin(theta) * py\n",
    "\n",
    "            # get kernel y\n",
    "            _y = -np.sin(theta) * px + np.cos(theta) * py\n",
    "\n",
    "            # fill kernel\n",
    "            gabor[y, x] = np.exp(-(_x**2 + Gamma**2 * _y**2) / (2 * Sigma**2)) * np.cos(2*np.pi*_x/Lambda + Psi)\n",
    "\n",
    "    # kernel normalization\n",
    "    gabor /= np.sum(np.abs(gabor))\n",
    "\n",
    "    return gabor\n",
    "\n",
    "\n",
    "def Gabor_filtering(gray, K_size=111, Sigma=10, Gamma=1.2, Lambda=10, Psi=0, angle=0):\n",
    "    # get shape\n",
    "    H, W = gray.shape\n",
    "\n",
    "    # padding\n",
    "    gray = np.pad(gray, (K_size//2, K_size//2), 'edge')\n",
    "\n",
    "    # prepare out image\n",
    "    out = np.zeros((H, W), dtype=np.float32)\n",
    "\n",
    "    # get gabor filter\n",
    "    gabor = Gabor_filter(K_size=K_size, Sigma=Sigma, Gamma=Gamma, Lambda=Lambda, Psi=0, angle=angle)\n",
    "\n",
    "    # filtering\n",
    "    for y in range(H):\n",
    "        for x in range(W):\n",
    "            out[y, x] = np.sum(gray[y : y + K_size, x : x + K_size] * gabor)\n",
    "\n",
    "    out = np.clip(out, 0, 255)\n",
    "    out = out.astype(np.uint8)\n",
    "\n",
    "    return out\n",
    "\n",
    "def Gabor_process(img):\n",
    "    # get shape\n",
    "    H, W, _ = img.shape\n",
    "\n",
    "    # gray scale\n",
    "    gray = BGR2GRAY(img).astype(np.float32)\n",
    "\n",
    "    # define angle\n",
    "    As = [0, 45, 90, 135]\n",
    "\n",
    "    # prepare pyplot\n",
    "    plt.subplots_adjust(left=0, right=1, top=1, bottom=0, hspace=0, wspace=0.2)\n",
    "\n",
    "    out = np.zeros([H, W], dtype=np.float32)\n",
    "\n",
    "    # each angle\n",
    "    for i, A in enumerate(As):\n",
    "        # gabor filtering\n",
    "        _out = Gabor_filtering(gray, K_size=7, Sigma=1.5, Gamma=1.2, Lambda=6, angle=A)\n",
    "        # add gabor filtered image\n",
    "        out += _out\n",
    "\n",
    "    # scale normalization\n",
    "    out = out / out.max() * 255\n",
    "    #out = out.astype(np.uint8)\n",
    "\n",
    "    return out\n",
    "\n",
    "\n",
    "# Read image\n",
    "img = cv2.imread('/home/charlie/projects/entropy/img/Raw_superficial/reactive/active/6_1054482-8_20170926_OCT_00000256.bmp_superficial.jpg')\n",
    "\n",
    "# gabor process\n",
    "out = Gabor_process(img)\n",
    "\n",
    "#out_binarized = cv2.threshold(out,0,255,cv2.THRESH_OTSU)\n",
    "\n",
    "\n",
    "cv2.imwrite(\"/home/charlie/projects/entropy/img/test/gabor.jpg\", out)\n",
    "#cv2.imwrite(\"bin.jpg\", out_binarized)\n",
    "#cv2.imshow(\"image\", img2)\n",
    "#cv2.imshow(\"result\", out)\n",
    "#cv2.imshow(\"binarized\", out_binarized)\n",
    "cv2.waitKey(0)"
   ]
  },
  {
   "cell_type": "code",
   "execution_count": null,
   "metadata": {},
   "outputs": [],
   "source": [
    "gray = cv2.cvtColor(out, cv2.COLOR_BGR2GRAY)\n",
    "thresh = cv2.threshold(gray, 75, 255, cv2.THRESH_BINARY)[1]\n",
    "kernel = cv2.getStructuringElement(cv2.MORPH_ELLIPSE, (3,3))\n",
    "opening = cv2.morphologyEx(thresh, cv2.MORPH_OPEN, kernel, iterations=1)\n",
    "\n",
    "cnts = cv2.findContours(opening, cv2.RETR_EXTERNAL, cv2.CHAIN_APPROX_SIMPLE)\n",
    "cnts = cnts[0] if len(cnts) == 2 else cnts[1]\n",
    "for c in cnts:\n",
    "    area = cv2.contourArea(c)\n",
    "    if area < 15:\n",
    "        cv2.drawContours(opening, [c], -1, (0,0,0), -1)\n",
    "\n",
    "cv2.imshow('thresh', thresh)\n",
    "cv2.imshow('opening', opening)\n",
    "cv2.waitKey(0)"
   ]
  },
  {
   "cell_type": "code",
   "execution_count": null,
   "metadata": {},
   "outputs": [],
   "source": [
    "gray = cv2.cvtColor(out, cv2.COLOR_BGR2GRAY)\n",
    "thresh = cv2.threshold(gray, 75, 255, cv2.THRESH_BINARY)[1]\n",
    "kernel = cv2.getStructuringElement(cv2.MORPH_ELLIPSE, (3,3))\n",
    "opening = cv2.morphologyEx(thresh, cv2.MORPH_OPEN, kernel, iterations=1)\n",
    "\n",
    "cnts = cv2.findContours(opening, cv2.RETR_EXTERNAL, cv2.CHAIN_APPROX_SIMPLE)\n",
    "cnts = cnts[0] if len(cnts) == 2 else cnts[1]\n",
    "for c in cnts:\n",
    "    area = cv2.contourArea(c)\n",
    "    if area < 15:\n",
    "        cv2.drawContours(opening, [c], -1, (0,0,0), -1)\n",
    "\n",
    "cv2.imshow('thresh', thresh)\n",
    "cv2.imshow('opening', opening)\n",
    "cv2.waitKey(0)"
   ]
  },
  {
   "cell_type": "code",
   "execution_count": null,
   "metadata": {},
   "outputs": [],
   "source": []
  }
 ],
 "metadata": {
  "kernelspec": {
   "display_name": "base",
   "language": "python",
   "name": "python3"
  },
  "language_info": {
   "codemirror_mode": {
    "name": "ipython",
    "version": 3
   },
   "file_extension": ".py",
   "mimetype": "text/x-python",
   "name": "python",
   "nbconvert_exporter": "python",
   "pygments_lexer": "ipython3",
   "version": "3.9.13"
  },
  "vscode": {
   "interpreter": {
    "hash": "34747cd2c38f1d7760c39bad676fae01c81c3f9ed55bfb80b18cf5cc6926b871"
   }
  }
 },
 "nbformat": 4,
 "nbformat_minor": 4
}
