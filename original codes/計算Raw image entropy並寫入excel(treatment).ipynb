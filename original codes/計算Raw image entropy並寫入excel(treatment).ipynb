{
 "cells": [
  {
   "cell_type": "code",
   "execution_count": null,
   "metadata": {},
   "outputs": [
    {
     "ename": "",
     "evalue": "",
     "output_type": "error",
     "traceback": [
      "\u001b[1;31mFailed to start the Kernel. \n",
      "View Jupyter <a href='command:jupyter.viewOutput'>log</a> for further details."
     ]
    }
   ],
   "source": [
    "import cv2\n",
    "import pytesseract\n",
    "from os import listdir\n",
    "from os.path import isfile, isdir, join\n",
    "import pandas as pd\n",
    "import numpy as np\n",
    "import skimage.measure    \n",
    "from matplotlib import pyplot as plt\n",
    "from PIL import Image\n"
   ]
  },
  {
   "cell_type": "code",
   "execution_count": null,
   "metadata": {},
   "outputs": [
    {
     "ename": "",
     "evalue": "",
     "output_type": "error",
     "traceback": [
      "\u001b[1;31mFailed to start the Kernel. \n",
      "View Jupyter <a href='command:jupyter.viewOutput'>log</a> for further details."
     ]
    }
   ],
   "source": [
    "def entropy(signal):\n",
    "        '''\n",
    "        function returns entropy of a signal\n",
    "        signal must be a 1-D numpy array\n",
    "        '''\n",
    "        lensig=signal.size\n",
    "        symset=list(set(signal))\n",
    "        numsym=len(symset)\n",
    "        propab=[np.size(signal[signal==i])/(1.0*lensig) for i in symset]\n",
    "        ent=np.sum([p*np.log2(1.0/p) for p in propab])\n",
    "        return ent"
   ]
  },
  {
   "cell_type": "code",
   "execution_count": 6,
   "metadata": {},
   "outputs": [],
   "source": [
    "clahe = cv2.createCLAHE()"
   ]
  },
  {
   "cell_type": "code",
   "execution_count": 8,
   "metadata": {},
   "outputs": [
    {
     "name": "stdout",
     "output_type": "stream",
     "text": [
      "Empty DataFrame\n",
      "Columns: [active, inactive, active_entropy, inactive_entropy, equalized_active_entropy, equalized_inactive_entropy, clahe_active_entropy, clahe_inactive_entropy]\n",
      "Index: []\n"
     ]
    }
   ],
   "source": [
    "mypath = \"/Users/charliethebear/Documents/Lab/Entropy/Raw_superficial/Treatment/inactive\"\n",
    "mypath2 = \"/Users/charliethebear/Documents/Lab/Entropy/Raw_superficial/Treatment/active\"\n",
    "files = listdir(mypath)\n",
    "files2 = listdir(mypath2)\n",
    "\n",
    "#建立要寫入excel的資料\n",
    "write = pd.DataFrame({'active':[],\n",
    "                  'inactive':[], 'active_entropy':[], 'inactive_entropy':[],\n",
    "                      'equalized_active_entropy':[], 'equalized_inactive_entropy':[],\n",
    "                          'clahe_active_entropy':[], 'clahe_inactive_entropy':[]})\n",
    "print(write)\n",
    "\n"
   ]
  },
  {
   "cell_type": "code",
   "execution_count": 9,
   "metadata": {},
   "outputs": [
    {
     "name": "stdout",
     "output_type": "stream",
     "text": [
      "    active inactive  active_entropy  inactive_entropy  \\\n",
      "0      NaN     1004             NaN          6.447058   \n",
      "1      NaN     1129             NaN          6.464259   \n",
      "2      NaN       23             NaN          6.784844   \n",
      "3      NaN      272             NaN          6.934437   \n",
      "4      NaN      408             NaN          6.647113   \n",
      "..     ...      ...             ...               ...   \n",
      "181    905      NaN        6.993682               NaN   \n",
      "182    296      NaN        6.458287               NaN   \n",
      "183   1268      NaN        6.917360               NaN   \n",
      "184    774      NaN        6.486625               NaN   \n",
      "185    593      NaN        6.485848               NaN   \n",
      "\n",
      "     equalized_active_entropy  equalized_inactive_entropy  \\\n",
      "0                         NaN                         NaN   \n",
      "1                         NaN                         NaN   \n",
      "2                         NaN                         NaN   \n",
      "3                         NaN                         NaN   \n",
      "4                         NaN                         NaN   \n",
      "..                        ...                         ...   \n",
      "181                       NaN                         NaN   \n",
      "182                       NaN                         NaN   \n",
      "183                       NaN                         NaN   \n",
      "184                       NaN                         NaN   \n",
      "185                       NaN                         NaN   \n",
      "\n",
      "     clahe_active_entropy  clahe_inactive_entropy  \n",
      "0                     NaN                     NaN  \n",
      "1                     NaN                     NaN  \n",
      "2                     NaN                     NaN  \n",
      "3                     NaN                     NaN  \n",
      "4                     NaN                     NaN  \n",
      "..                    ...                     ...  \n",
      "181                   NaN                     NaN  \n",
      "182                   NaN                     NaN  \n",
      "183                   NaN                     NaN  \n",
      "184                   NaN                     NaN  \n",
      "185                   NaN                     NaN  \n",
      "\n",
      "[186 rows x 8 columns]\n"
     ]
    }
   ],
   "source": [
    "#圖片直接拿去算entropy\n",
    "num=0\n",
    "#inactive\n",
    "for f in files:\n",
    "    #取得檔案路徑/病患編號\n",
    "    if f[-3:]==\"jpg\":\n",
    "        fullpath = join(mypath, f)\n",
    "        number= f.split(\"_\")[0]\n",
    "        #print(number)\n",
    "    \n",
    "        colorIm=Image.open(fullpath)\n",
    "        greyIm=colorIm.convert('L')\n",
    "        colorIm=np.array(colorIm)\n",
    "        greyIm=np.array(greyIm)\n",
    "        fullimg= greyIm[0:-1, 0:-1].flatten()\n",
    "        ent= entropy(fullimg)\n",
    "        \n",
    "        write = write.append({\n",
    "            \"inactive\": number,\n",
    "            \"inactive_entropy\": ent\n",
    "        }, ignore_index=True)\n",
    "    \n",
    "    \n",
    "    \n",
    "#active\n",
    "for f in files2:\n",
    "    if f[-3:]==\"jpg\":\n",
    "        fullpath = join(mypath2, f)\n",
    "        number= f.split(\"_\")[0]\n",
    "        #print(number)\n",
    "    \n",
    "        colorIm=Image.open(fullpath)\n",
    "        greyIm=colorIm.convert('L')\n",
    "        colorIm=np.array(colorIm)\n",
    "        greyIm=np.array(greyIm)\n",
    "        fullimg= greyIm[0:-1, 0:-1].flatten()\n",
    "        ent= entropy(fullimg)\n",
    "    \n",
    "        write = write.append({\n",
    "            \"active\": number,\n",
    "            \"active_entropy\": ent\n",
    "        }, ignore_index=True)\n",
    "    \n",
    "    \n",
    "print(write)\n",
    "#df = pd.DataFrame(write)\n",
    "#df.to_excel(\"/Users/charliethebear/Documents/Lab/Entropy/Excel/patient_treatment_sorted.xlsx\")\n",
    "  "
   ]
  },
  {
   "cell_type": "code",
   "execution_count": 10,
   "metadata": {},
   "outputs": [
    {
     "name": "stdout",
     "output_type": "stream",
     "text": [
      "    active inactive  active_entropy  inactive_entropy  \\\n",
      "0      NaN     1004             NaN          6.447058   \n",
      "1      NaN     1129             NaN          6.464259   \n",
      "2      NaN       23             NaN          6.784844   \n",
      "3      NaN      272             NaN          6.934437   \n",
      "4      NaN      408             NaN          6.647113   \n",
      "..     ...      ...             ...               ...   \n",
      "367    905      NaN             NaN               NaN   \n",
      "368    296      NaN             NaN               NaN   \n",
      "369   1268      NaN             NaN               NaN   \n",
      "370    774      NaN             NaN               NaN   \n",
      "371    593      NaN             NaN               NaN   \n",
      "\n",
      "     equalized_active_entropy  equalized_inactive_entropy  \\\n",
      "0                         NaN                         NaN   \n",
      "1                         NaN                         NaN   \n",
      "2                         NaN                         NaN   \n",
      "3                         NaN                         NaN   \n",
      "4                         NaN                         NaN   \n",
      "..                        ...                         ...   \n",
      "367                  6.761225                         NaN   \n",
      "368                  6.232003                         NaN   \n",
      "369                  6.694340                         NaN   \n",
      "370                  6.300595                         NaN   \n",
      "371                  6.248788                         NaN   \n",
      "\n",
      "     clahe_active_entropy  clahe_inactive_entropy  \n",
      "0                     NaN                     NaN  \n",
      "1                     NaN                     NaN  \n",
      "2                     NaN                     NaN  \n",
      "3                     NaN                     NaN  \n",
      "4                     NaN                     NaN  \n",
      "..                    ...                     ...  \n",
      "367              7.992523                     NaN  \n",
      "368              7.990340                     NaN  \n",
      "369              7.990539                     NaN  \n",
      "370              7.993080                     NaN  \n",
      "371              7.991727                     NaN  \n",
      "\n",
      "[372 rows x 8 columns]\n"
     ]
    }
   ],
   "source": [
    "#圖片equalize和clahe後算entropy\n",
    "num=0\n",
    "\n",
    "#inactive\n",
    "for f in files:\n",
    "    #取得檔案路徑/病患編號\n",
    "    if f[-3:]==\"jpg\":\n",
    "        fullpath = join(mypath, f)\n",
    "        number= f.split(\"_\")[0]\n",
    "        #print(number)\n",
    "        \n",
    "        img = cv2.imread(fullpath)\n",
    "        colorIm=Image.open(fullpath)\n",
    "        # convert the image into grayscale before doing histogram equalization\n",
    "        gray_img = cv2.cvtColor(img, cv2.COLOR_BGR2GRAY)\n",
    "\n",
    "        # image equalization\n",
    "        equalize_img = cv2.equalizeHist(gray_img)\n",
    "        equalize_img= Image.fromarray(equalize_img)\n",
    "\n",
    "        # create clahe image\n",
    "        clahe_img = clahe.apply(gray_img)\n",
    "        clahe_img = Image.fromarray(clahe_img)\n",
    "        \n",
    "        #算equalized image entropy\n",
    "        greyIm_equ=equalize_img.convert('L')\n",
    "        greyIm_equ=np.array(greyIm_equ)\n",
    "        fullimg_equ= greyIm_equ[0:-1, 0:-1].flatten()\n",
    "        ent_equ= entropy(fullimg_equ)\n",
    "        \n",
    "        #算clahe image entropy\n",
    "        greyIm_clahe=clahe_img.convert('L')\n",
    "        greyIm_clahe=np.array(greyIm_clahe)\n",
    "        fullimg_clahe= greyIm_clahe[0:-1, 0:-1].flatten()\n",
    "        ent_clahe= entropy(fullimg_clahe)\n",
    "        \n",
    "        write = write.append({\n",
    "            \"inactive\": number,\n",
    "            \"equalized_inactive_entropy\": ent_equ,\n",
    "            \"clahe_inactive_entropy\": ent_clahe\n",
    "        }, ignore_index=True)\n",
    "    \n",
    "    \n",
    "    \n",
    "#active\n",
    "for f in files2:\n",
    "    #取得檔案路徑/病患編號\n",
    "    if f[-3:]==\"jpg\":\n",
    "        fullpath = join(mypath2, f)\n",
    "        number= f.split(\"_\")[0]\n",
    "        #print(number)\n",
    "        \n",
    "        img = cv2.imread(fullpath)\n",
    "        colorIm=Image.open(fullpath)\n",
    "        # convert the image into grayscale before doing histogram equalization\n",
    "        gray_img = cv2.cvtColor(img, cv2.COLOR_BGR2GRAY)\n",
    "\n",
    "        # image equalization\n",
    "        equalize_img = cv2.equalizeHist(gray_img)\n",
    "        equalize_img= Image.fromarray(equalize_img)\n",
    "\n",
    "        # create clahe image\n",
    "        clahe_img = clahe.apply(gray_img)\n",
    "        clahe_img = Image.fromarray(clahe_img)\n",
    "        \n",
    "        #算equalized image entropy\n",
    "        greyIm_equ=equalize_img.convert('L')\n",
    "        greyIm_equ=np.array(greyIm_equ)\n",
    "        fullimg_equ= greyIm_equ[0:-1, 0:-1].flatten()\n",
    "        ent_equ= entropy(fullimg_equ)\n",
    "        \n",
    "        #算clahe image entropy\n",
    "        greyIm_clahe=clahe_img.convert('L')\n",
    "        greyIm_clahe=np.array(greyIm_clahe)\n",
    "        fullimg_clahe= greyIm_clahe[0:-1, 0:-1].flatten()\n",
    "        ent_clahe= entropy(fullimg_clahe)\n",
    "        \n",
    "        write = write.append({\n",
    "            \"active\": number,\n",
    "            \"equalized_active_entropy\": ent_equ,\n",
    "            \"clahe_active_entropy\": ent_clahe\n",
    "        }, ignore_index=True)\n",
    "    \n",
    "    \n",
    "print(write)\n",
    "df = pd.DataFrame(write)\n",
    "df.to_excel(\"/Users/charliethebear/Documents/Lab/Entropy/Excel/patient_treatment_equalized.xlsx\")  "
   ]
  },
  {
   "cell_type": "code",
   "execution_count": null,
   "metadata": {},
   "outputs": [
    {
     "ename": "",
     "evalue": "",
     "output_type": "error",
     "traceback": [
      "\u001b[1;31mFailed to start the Kernel. \n",
      "View Jupyter <a href='command:jupyter.viewOutput'>log</a> for further details."
     ]
    }
   ],
   "source": [
    "!pip install --upgrade pip\n"
   ]
  },
  {
   "cell_type": "code",
   "execution_count": null,
   "metadata": {},
   "outputs": [],
   "source": []
  }
 ],
 "metadata": {
  "kernelspec": {
   "display_name": "Python 3",
   "language": "python",
   "name": "python3"
  },
  "language_info": {
   "codemirror_mode": {
    "name": "ipython",
    "version": 3
   },
   "file_extension": ".py",
   "mimetype": "text/x-python",
   "name": "python",
   "nbconvert_exporter": "python",
   "pygments_lexer": "ipython3",
   "version": "3.8.5"
  }
 },
 "nbformat": 4,
 "nbformat_minor": 4
}
