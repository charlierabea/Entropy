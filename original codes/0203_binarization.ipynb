{
 "cells": [
  {
   "cell_type": "code",
   "execution_count": 3,
   "metadata": {},
   "outputs": [],
   "source": [
    "def do_GaussianBlur(gray):\n",
    "    kernel_size = 5\n",
    "    blur_gray = cv2.GaussianBlur(gray,(kernel_size, kernel_size), 0)\n",
    "    return blur_gray"
   ]
  },
  {
   "cell_type": "code",
   "execution_count": 2,
   "metadata": {},
   "outputs": [
    {
     "ename": "ModuleNotFoundError",
     "evalue": "No module named 'cv2'",
     "output_type": "error",
     "traceback": [
      "\u001b[0;31m---------------------------------------------------------------------------\u001b[0m",
      "\u001b[0;31mModuleNotFoundError\u001b[0m                       Traceback (most recent call last)",
      "Cell \u001b[0;32mIn[2], line 1\u001b[0m\n\u001b[0;32m----> 1\u001b[0m \u001b[39mimport\u001b[39;00m \u001b[39mcv2\u001b[39;00m\n\u001b[1;32m      2\u001b[0m \u001b[39mimport\u001b[39;00m \u001b[39mos\u001b[39;00m\n\u001b[1;32m      3\u001b[0m \u001b[39mimport\u001b[39;00m \u001b[39mmatplotlib\u001b[39;00m\u001b[39m.\u001b[39;00m\u001b[39mpyplot\u001b[39;00m \u001b[39mas\u001b[39;00m \u001b[39mplt\u001b[39;00m\n",
      "\u001b[0;31mModuleNotFoundError\u001b[0m: No module named 'cv2'"
     ]
    }
   ],
   "source": [
    "import cv2\n",
    "import os\n",
    "import matplotlib.pyplot as plt"
   ]
  },
  {
   "cell_type": "code",
   "execution_count": 3,
   "metadata": {},
   "outputs": [
    {
     "ename": "NameError",
     "evalue": "name 'cv2' is not defined",
     "output_type": "error",
     "traceback": [
      "\u001b[0;31m---------------------------------------------------------------------------\u001b[0m",
      "\u001b[0;31mNameError\u001b[0m                                 Traceback (most recent call last)",
      "Cell \u001b[0;32mIn[3], line 5\u001b[0m\n\u001b[1;32m      2\u001b[0m filepath \u001b[39m=\u001b[39m \u001b[39m'\u001b[39m\u001b[39m/home/charlie/projects/entropy/img/OCTA_Net_1000/2_1054482-8_20161004_OCT_00000419.bmp_superficial.jpg\u001b[39m\u001b[39m'\u001b[39m\n\u001b[1;32m      4\u001b[0m \u001b[39m# 讀取圖像\u001b[39;00m\n\u001b[0;32m----> 5\u001b[0m img \u001b[39m=\u001b[39m cv2\u001b[39m.\u001b[39mimread(filepath, cv2\u001b[39m.\u001b[39mIMREAD_GRAYSCALE)\n\u001b[1;32m      7\u001b[0m \u001b[39m# 模糊\u001b[39;00m\n\u001b[1;32m      8\u001b[0m blur \u001b[39m=\u001b[39m do_GaussianBlur(img)\n",
      "\u001b[0;31mNameError\u001b[0m: name 'cv2' is not defined"
     ]
    }
   ],
   "source": [
    "\n",
    "    # 文件路徑\n",
    "    filepath = '/home/charlie/projects/entropy/img/OCTA_Net_1000/2_1054482-8_20161004_OCT_00000419.bmp_superficial.jpg'\n",
    "\n",
    "    # 讀取圖像\n",
    "    img = cv2.imread(filepath, cv2.IMREAD_GRAYSCALE)\n",
    "\n",
    "    # 模糊\n",
    "    blur = do_GaussianBlur(img)\n",
    "    \n",
    "    # 進行自適應二值化\n",
    "    img_binary = cv2.adaptiveThreshold(img, 255, cv2.ADAPTIVE_THRESH_MEAN_C, cv2.THRESH_BINARY,111, 0)\n",
    "    _, img_binary2 = cv2.threshold(img,0,255,cv2.THRESH_BINARY+cv2.THRESH_OTSU)\n",
    "    \n",
    "    cv2.imwrite('/home/charlie/projects/entropy/test/img.jpg', img)\n",
    "    cv2.imwrite('/home/charlie/projects/entropy/test/blur.jpg', blur)\n",
    "    cv2.imwrite('/home/charlie/projects/entropy/test/img_binary.jpg', img_binary)\n",
    "    cv2.imwrite('/home/charlie/projects/entropy/test/img_binary2.jpg', img_binary2)\n",
    "    \n",
    "'''\n",
    "    # 尋找連通區域\n",
    "    contours, _ = cv2.findContours(img, cv2.RETR_EXTERNAL, cv2.CHAIN_APPROX_SIMPLE)\n",
    "\n",
    "    # 計算連通區域面積\n",
    "    area = 0\n",
    "    for c in contours:\n",
    "        area += cv2.contourArea(c)\n",
    "\n",
    "    results[filename] = area\n",
    "\n",
    "# print or save the results\n",
    "#print(results)\n",
    "#or \n",
    "with open(\"F:/vessels_result_contours_adaptive.csv\",\"w\") as f:\n",
    "    for k,v in results.items():\n",
    "        f.write(f\"{k}: {v}\\n\")\n",
    "'''"
   ]
  },
  {
   "cell_type": "code",
   "execution_count": null,
   "metadata": {},
   "outputs": [],
   "source": []
  }
 ],
 "metadata": {
  "kernelspec": {
   "display_name": "Python 3",
   "language": "python",
   "name": "python3"
  },
  "language_info": {
   "codemirror_mode": {
    "name": "ipython",
    "version": 3
   },
   "file_extension": ".py",
   "mimetype": "text/x-python",
   "name": "python",
   "nbconvert_exporter": "python",
   "pygments_lexer": "ipython3",
   "version": "3.8.10 (default, Nov 14 2022, 12:59:47) \n[GCC 9.4.0]"
  },
  "orig_nbformat": 4,
  "vscode": {
   "interpreter": {
    "hash": "31f2aee4e71d21fbe5cf8b01ff0e069b9275f58929596ceb00d14d90e3e16cd6"
   }
  }
 },
 "nbformat": 4,
 "nbformat_minor": 2
}
