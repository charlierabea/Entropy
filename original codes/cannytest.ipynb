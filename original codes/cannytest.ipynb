{
 "cells": [
  {
   "cell_type": "code",
   "execution_count": 4,
   "metadata": {},
   "outputs": [],
   "source": [
    "import cv2\n",
    "import os\n",
    "import numpy as np\n",
    "import matplotlib.pyplot as plt\n",
    "\n",
    "# 設置圖像目錄\n",
    "image_dir = r\"/home/charlie/projects/entropy/raw/Raw_superficial/reactive/inactive\"\n",
    "\n",
    "# 初始化總面積\n",
    "results = {}\n",
    "\n",
    "# 列出目錄中的所有文件\n",
    "for filename in os.listdir(image_dir):\n",
    "    # 檢查文件是否為圖像\n",
    "    if not (filename.endswith(\".bmp\") or filename.endswith(\".jpg\")):\n",
    "        continue\n",
    "\n",
    "    # 組合文件路徑\n",
    "    filepath = os.path.join(image_dir, filename)\n",
    "    \n",
    "    # 讀取圖像\n",
    "    img = cv2.imread(filepath, cv2.IMREAD_GRAYSCALE)\n",
    "    \n",
    "    '''\n",
    "    #計算直方圖\n",
    "    histi = cv2.calcHist([img], [0], None, [256], [0, 256])\n",
    "    #print(hist)\n",
    "    weight = np.arange(0,256)\n",
    "    plt.hist(histi.ravel(), 256, [0, 256], color = 'black')\n",
    "    plt.savefig('/home/charlie/projects/entropy/test/hist/raw/reactive/inactive/'+ filename)\n",
    "    \n",
    "    \n",
    "    sum = 0\n",
    "    for i in range(256):\n",
    "        histii = histi[i] * weight[i]\n",
    "        sum += histii\n",
    "        \n",
    "        \n",
    "    print(filename, sum/(img.shape[0]*img.shape[1]))\n",
    "    '''\n",
    "    \n",
    "     #進行高斯平滑\n",
    "    kernel_size = 15\n",
    "    y = cv2.GaussianBlur(img,(kernel_size, kernel_size), 0)\n",
    "    y = cv2.normalize(y,y,0,255,cv2.NORM_MINMAX)\n",
    "    # 使用 Canny 邊緣檢測算法檢測血管\n",
    "    edges = cv2.Canny(y, 50, 100)\n",
    "    \n",
    "    #cv2.imwrite(\"/home/charlie/projects/entropy/test/hist/raw/reactive/\"+ filename, hist)\n",
    "    cv2.imwrite(\"/home/charlie/projects/entropy/test/canny/raw/reactive/inactive/\"+ filename, edges)\n",
    "    "
   ]
  },
  {
   "cell_type": "code",
   "execution_count": null,
   "metadata": {},
   "outputs": [],
   "source": []
  }
 ],
 "metadata": {
  "kernelspec": {
   "display_name": "base",
   "language": "python",
   "name": "python3"
  },
  "language_info": {
   "codemirror_mode": {
    "name": "ipython",
    "version": 3
   },
   "file_extension": ".py",
   "mimetype": "text/x-python",
   "name": "python",
   "nbconvert_exporter": "python",
   "pygments_lexer": "ipython3",
   "version": "3.9.13"
  },
  "orig_nbformat": 4,
  "vscode": {
   "interpreter": {
    "hash": "34747cd2c38f1d7760c39bad676fae01c81c3f9ed55bfb80b18cf5cc6926b871"
   }
  }
 },
 "nbformat": 4,
 "nbformat_minor": 2
}
