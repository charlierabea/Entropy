{
 "cells": [
  {
   "cell_type": "code",
   "execution_count": 16,
   "metadata": {},
   "outputs": [
    {
     "name": "stdout",
     "output_type": "stream",
     "text": [
      "1146_4351974-0_20170220_OCT_00014209.bmp_superficial.jpg [37.71113916]\n",
      "157_1425598-2_20170809_OCT_00005655.bmp_superficial.jpg [35.00359692]\n",
      "101_1296950-5_20160815_OCT_00001009.bmp_superficial.jpg [45.68723376]\n",
      "1322_805250-4_20170124_OCT_00002857.bmp_superficial.jpg [66.61562866]\n",
      "903_4048777-2_20171107_OCT_00004070.bmp_superficial.jpg [46.54926687]\n",
      "112_1296950-5_20171120_OCT_00000948.bmp_superficial.jpg [62.73888916]\n",
      "1062_4256802-5_20170918_OCT_00009105.bmp_superficial.jpg [59.97402569]\n",
      "1328_805250-4_20170905_OCT_00002684.bmp_superficial.jpg [60.24096991]\n",
      "90_1252430-0_20170516_OCT_00000499.bmp_superficial.jpg [39.94879444]\n",
      "942_4125708-3_20161215_OCT_00001828.bmp_superficial.jpg [37.91315307]\n",
      "309_2070791-9_20160614_OCT_00000844.bmp_superficial.jpg [39.43128245]\n",
      "923_4094106-8_20171003_OCT_00000351.bmp_superficial.jpg [49.0070791]\n",
      "633_3389614-9_20170731_OCT_00001027.bmp_superficial.jpg [42.15410477]\n",
      "1295_453862-9_20180306_OCT_00000225.bmp_superficial.jpg [55.35093001]\n",
      "1130_4328468-0_20170815_OCT_00013244.bmp_superficial.jpg [47.01657497]\n",
      "1363_910151-3_20180320_OCT_00000432.bmp_superficial.jpg [48.95792424]\n",
      "762_3663385-9_20161122_OCT_00000276.bmp_superficial.jpg [37.77854269]\n",
      "1051_4245073-7_20161115_OCT_00008202.bmp_superficial.jpg [38.43657311]\n",
      "451_2701324-7_20161020_OCT_00000630.bmp_superficial.jpg [47.03224114]\n",
      "1467_4524507-6_20190903_OCT_00000404.bmp_superficial.jpg [44.24152356]\n",
      "1058_4246598-5_20171219_OCT_00008578.bmp_superficial.jpg [57.24174393]\n",
      "1423_2453123-5_20191022_OCT_00001965.bmp_superficial.jpg [39.50207363]\n",
      "982_4208695-3_20170605_OCT_00004501.bmp_superficial.jpg [35.55272173]\n",
      "777_3731447-9_20170425_OCT_00000761.bmp_superficial.jpg [38.78082104]\n",
      "1008_4220574-3_20171205_OCT_00004901.bmp_superficial.jpg [50.55814352]\n",
      "294_2048960-5_20170116_OCT_00006658.bmp_superficial.jpg [42.12678275]\n",
      "500_2900821-7_20161013_OCT_00001332.bmp_superficial.jpg [43.60407299]\n",
      "1336_832369-1_20161004_OCT_00003427.bmp_superficial.jpg [36.13625676]\n",
      "95_1252430-0_20171225_OCT_00000427.bmp_superficial.jpg [58.68616106]\n",
      "1481_535935-3_20191028_OCT_00001517.bmp_superficial.jpg [53.11822769]\n",
      "1078_4276219-6_20180727_OCT_00009973.bmp_superficial.jpg [36.66207718]\n",
      "1265_4454142-6_20181225_OCT_00002039.bmp_superficial.jpg [54.32850162]\n",
      "409_2439445-4_20190416_OCT_00000077.bmp_superficial.jpg [39.81741127]\n",
      "206_1670475-9_20161031_OCT_00000498.bmp_superficial.jpg [40.14182243]\n",
      "771_3731447-9_20160628_OCT_00000831.bmp_superficial.jpg [40.31526496]\n",
      "514_2935012-7_20161021_OCT_00000600.bmp_superficial.jpg [37.9626831]\n",
      "1064_4256802-5_20180205_OCT_00009096.bmp_superficial.jpg [60.29711463]\n",
      "100_1296950-5_20160815_OCT_00001008.bmp_superficial.jpg [40.35118316]\n",
      "736_3604732-2_20161213_OCT_00000494.bmp_superficial.jpg [35.16574786]\n",
      "868_3938606-6_20171024_OCT_00002325.bmp_superficial.jpg [69.73428693]\n",
      "1231_4396630-9_20180719_OCT_00016745.bmp_superficial.jpg [53.44350651]\n",
      "304_2062152-7_20170814_OCT_00000103.bmp_superficial.jpg [49.1201626]\n",
      "1271_4456114-0_20180626_OCT_00002392.bmp_superficial.jpg [57.30296987]\n",
      "252_1881507-1_20160725_OCT_00002544.bmp_superficial.jpg [38.96650949]\n",
      "546_3007792-0_20170918_OCT_00002858.bmp_superficial.jpg [46.95299965]\n",
      "673_3468468-9_20170815_OCT_00004880.bmp_superficial.jpg [47.7526813]\n",
      "960_4162908-7_20170322_OCT_00003071.bmp_superficial.jpg [52.5475622]\n",
      "1043_4231944-8_20170307_OCT_00007599.bmp_superficial.jpg [45.53908804]\n",
      "109_1296950-5_20170814_OCT_00000971.bmp_superficial.jpg [54.6492594]\n",
      "1306_613712-8_20170419_OCT_00001406.bmp_superficial.jpg [40.57900018]\n",
      "1000_4220574-3_20160621_OCT_00005112.bmp_superficial.jpg [38.57760148]\n",
      "134_1355850-4_20161031_OCT_00004124.bmp_superficial.jpg [39.05514123]\n",
      "107_1296950-5_20170327_OCT_00000989.bmp_superficial.jpg [48.56289691]\n",
      "916_4085361-0_20170918_OCT_00000188.bmp_superficial.jpg [51.21283017]\n",
      "1045_4231944-8_20170904_OCT_00007476.bmp_superficial.jpg [41.84770553]\n",
      "80_1244610-5_20170221_OCT_00000223.bmp_superficial.jpg [40.28485415]\n",
      "5_1054482-8_20170704_OCT_00000262.bmp_superficial.jpg [40.76056538]\n",
      "1444_405089-9_20191226_OCT_00005038.bmp_superficial.jpg [50.02773644]\n",
      "1098_4297165-3_20170221_OCT_00011423.bmp_superficial.jpg [44.27214564]\n",
      "706_3570578-3_20170124_OCT_00000774.bmp_superficial.jpg [46.33255203]\n",
      "1018_4230651-4_20170704_OCT_00005746.bmp_superficial.jpg [43.2818036]\n",
      "979_4190432-9_20161206_OCT_00004098.bmp_superficial.jpg [45.47192855]\n",
      "509_2900821-7_20170502_OCT_00001191.bmp_superficial.jpg [39.09447969]\n",
      "286_1965727-3_20160614_OCT_00004045.bmp_superficial.jpg [47.44669001]\n",
      "34_1172576-1_20170620_OCT_00002588.bmp_superficial.jpg [46.48626341]\n",
      "1429_3169038-7_20190722_OCT_00002576.bmp_superficial.jpg [50.17142338]\n"
     ]
    },
    {
     "data": {
      "image/png": "[encoded data removed]",
      "text/plain": [
       "<Figure size 640x480 with 1 Axes>"
      ]
     },
     "metadata": {},
     "output_type": "display_data"
    }
   ],
   "source": [
    "import cv2\n",
    "import os\n",
    "import numpy as np\n",
    "import matplotlib.pyplot as plt\n",
    "\n",
    "# 設置圖像目錄\n",
    "image_dir = r\"/home/charlie/projects/entropy/raw/Raw_superficial/reactive/inactive\"\n",
    "\n",
    "# 初始化總面積\n",
    "results = {}\n",
    "\n",
    "# 列出目錄中的所有文件\n",
    "for filename in os.listdir(image_dir):\n",
    "    # 檢查文件是否為圖像\n",
    "    if not (filename.endswith(\".bmp\") or filename.endswith(\".jpg\")):\n",
    "        continue\n",
    "\n",
    "    # 組合文件路徑\n",
    "    filepath = os.path.join(image_dir, filename)\n",
    "    \n",
    "    # 讀取圖像\n",
    "    img = cv2.imread(filepath, cv2.IMREAD_GRAYSCALE)\n",
    "    \n",
    "    #計算直方圖\n",
    "    histi = cv2.calcHist([img], [0], None, [256], [0, 256])\n",
    "    #print(hist)\n",
    "    weight = np.arange(0,256)\n",
    "    plt.hist(histi.ravel(), 256, [0, 256], color = 'black')\n",
    "    plt.savefig('/home/charlie/projects/entropy/test/hist/raw/reactive/inactive/'+ filename)\n",
    "    \n",
    "    sum = 0\n",
    "    for i in range(256):\n",
    "        histii = histi[i] * weight[i]\n",
    "        sum += histii\n",
    "        \n",
    "        \n",
    "    print(filename, sum/(img.shape[0]*img.shape[1]))\n",
    "    \n",
    "     #進行高斯平滑\n",
    "    kernel_size = 3\n",
    "    y = cv2.GaussianBlur(img,(kernel_size, kernel_size), 0)\n",
    "    \n",
    "    # 使用 Canny 邊緣檢測算法檢測血管\n",
    "    edges = cv2.Canny(y, 50, 150)\n",
    "    \n",
    "    #cv2.imwrite(\"/home/charlie/projects/entropy/test/hist/raw/reactive/\"+ filename, hist)\n",
    "    cv2.imwrite(\"/home/charlie/projects/entropy/test/canny/raw/reactive/inactive/\"+ filename, edges)\n",
    "    "
   ]
  },
  {
   "cell_type": "code",
   "execution_count": null,
   "metadata": {},
   "outputs": [],
   "source": []
  }
 ],
 "metadata": {
  "kernelspec": {
   "display_name": "base",
   "language": "python",
   "name": "python3"
  },
  "language_info": {
   "codemirror_mode": {
    "name": "ipython",
    "version": 3
   },
   "file_extension": ".py",
   "mimetype": "text/x-python",
   "name": "python",
   "nbconvert_exporter": "python",
   "pygments_lexer": "ipython3",
   "version": "3.9.13"
  },
  "orig_nbformat": 4,
  "vscode": {
   "interpreter": {
    "hash": "34747cd2c38f1d7760c39bad676fae01c81c3f9ed55bfb80b18cf5cc6926b871"
   }
  }
 },
 "nbformat": 4,
 "nbformat_minor": 2
}
