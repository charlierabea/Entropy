{
 "cells": [
  {
   "cell_type": "code",
   "execution_count": 22,
   "metadata": {},
   "outputs": [
    {
     "name": "stdout",
     "output_type": "stream",
     "text": [
      "/home/charlie/projects/entropy/raw/Raw_superficial/treatment/\n",
      "/home/charlie/projects/entropy/raw/Raw_superficial/treatment/active/\n",
      "(741, 741)\n",
      "檔案已存在。\n",
      "檔案已存在。\n",
      "檔案已存在。\n"
     ]
    },
    {
     "ename": "NameError",
     "evalue": "name 'partialSum' is not defined",
     "output_type": "error",
     "traceback": [
      "\u001b[0;31m---------------------------------------------------------------------------\u001b[0m",
      "\u001b[0;31mNameError\u001b[0m                                 Traceback (most recent call last)",
      "\u001b[0;32m/tmp/ipykernel_281531/3469082194.py\u001b[0m in \u001b[0;36m<module>\u001b[0;34m\u001b[0m\n\u001b[1;32m     66\u001b[0m \u001b[0;34m\u001b[0m\u001b[0m\n\u001b[1;32m     67\u001b[0m                 \u001b[0;32mfor\u001b[0m \u001b[0mpreprocess_name\u001b[0m\u001b[0;34m,\u001b[0m \u001b[0mpreprocess\u001b[0m \u001b[0;32min\u001b[0m \u001b[0mbinaryprocess_name\u001b[0m\u001b[0;34m:\u001b[0m\u001b[0;34m\u001b[0m\u001b[0;34m\u001b[0m\u001b[0m\n\u001b[0;32m---> 68\u001b[0;31m                     \u001b[0mimg1\u001b[0m \u001b[0;34m=\u001b[0m \u001b[0mpreprocess\u001b[0m\u001b[0;34m(\u001b[0m\u001b[0mimg\u001b[0m\u001b[0;34m)\u001b[0m\u001b[0;34m\u001b[0m\u001b[0;34m\u001b[0m\u001b[0m\n\u001b[0m\u001b[1;32m     69\u001b[0m                     \u001b[0mmypath\u001b[0m \u001b[0;34m=\u001b[0m \u001b[0;34m\"\"\u001b[0m\u001b[0;34m\u001b[0m\u001b[0;34m\u001b[0m\u001b[0m\n\u001b[1;32m     70\u001b[0m                     \u001b[0;32mif\u001b[0m \u001b[0mhave_gabor_filter\u001b[0m\u001b[0;34m:\u001b[0m\u001b[0;34m\u001b[0m\u001b[0;34m\u001b[0m\u001b[0m\n",
      "\u001b[0;32m~/projects/entropy/Entropy/data processing/util.py\u001b[0m in \u001b[0;36mdo_percentile\u001b[0;34m(img)\u001b[0m\n\u001b[1;32m     36\u001b[0m         \u001b[0mptile\u001b[0m \u001b[0;34m=\u001b[0m \u001b[0;34m(\u001b[0m\u001b[0mi\u001b[0m \u001b[0;34m+\u001b[0m \u001b[0;36m1\u001b[0m\u001b[0;34m)\u001b[0m \u001b[0;34m/\u001b[0m \u001b[0;36m256.0\u001b[0m\u001b[0;34m\u001b[0m\u001b[0;34m\u001b[0m\u001b[0m\n\u001b[1;32m     37\u001b[0m         \u001b[0mavec\u001b[0m\u001b[0;34m[\u001b[0m\u001b[0mi\u001b[0m\u001b[0;34m]\u001b[0m \u001b[0;34m=\u001b[0m \u001b[0mabs\u001b[0m\u001b[0;34m(\u001b[0m\u001b[0;34m(\u001b[0m\u001b[0mpartial_sum\u001b[0m\u001b[0;34m(\u001b[0m\u001b[0mdata\u001b[0m\u001b[0;34m,\u001b[0m \u001b[0mi\u001b[0m\u001b[0;34m)\u001b[0m \u001b[0;34m/\u001b[0m \u001b[0mtotal\u001b[0m\u001b[0;34m)\u001b[0m \u001b[0;34m-\u001b[0m \u001b[0mptile\u001b[0m\u001b[0;34m)\u001b[0m\u001b[0;34m\u001b[0m\u001b[0;34m\u001b[0m\u001b[0m\n\u001b[0;32m---> 38\u001b[0;31m         \u001b[0;32mif\u001b[0m \u001b[0mavec\u001b[0m\u001b[0;34m[\u001b[0m\u001b[0mi\u001b[0m\u001b[0;34m]\u001b[0m \u001b[0;34m<\u001b[0m \u001b[0mtemp\u001b[0m\u001b[0;34m:\u001b[0m\u001b[0;34m\u001b[0m\u001b[0;34m\u001b[0m\u001b[0m\n\u001b[0m\u001b[1;32m     39\u001b[0m             \u001b[0mtemp\u001b[0m \u001b[0;34m=\u001b[0m \u001b[0mavec\u001b[0m\u001b[0;34m[\u001b[0m\u001b[0mi\u001b[0m\u001b[0;34m]\u001b[0m\u001b[0;34m\u001b[0m\u001b[0;34m\u001b[0m\u001b[0m\n\u001b[1;32m     40\u001b[0m             \u001b[0mthreshold\u001b[0m \u001b[0;34m=\u001b[0m \u001b[0mi\u001b[0m\u001b[0;34m\u001b[0m\u001b[0;34m\u001b[0m\u001b[0m\n",
      "\u001b[0;32m~/projects/entropy/Entropy/data processing/util.py\u001b[0m in \u001b[0;36mPercentile\u001b[0;34m(data)\u001b[0m\n\u001b[1;32m     24\u001b[0m     \u001b[0mx\u001b[0m \u001b[0;34m=\u001b[0m \u001b[0;36m0\u001b[0m\u001b[0;34m\u001b[0m\u001b[0;34m\u001b[0m\u001b[0m\n\u001b[1;32m     25\u001b[0m     \u001b[0;32mfor\u001b[0m \u001b[0mi\u001b[0m \u001b[0;32min\u001b[0m \u001b[0mrange\u001b[0m\u001b[0;34m(\u001b[0m\u001b[0mj\u001b[0m \u001b[0;34m+\u001b[0m \u001b[0;36m1\u001b[0m\u001b[0;34m)\u001b[0m\u001b[0;34m:\u001b[0m\u001b[0;34m\u001b[0m\u001b[0;34m\u001b[0m\u001b[0m\n\u001b[0;32m---> 26\u001b[0;31m         \u001b[0mx\u001b[0m \u001b[0;34m+=\u001b[0m \u001b[0my\u001b[0m\u001b[0;34m[\u001b[0m\u001b[0mi\u001b[0m\u001b[0;34m]\u001b[0m\u001b[0;34m\u001b[0m\u001b[0;34m\u001b[0m\u001b[0m\n\u001b[0m\u001b[1;32m     27\u001b[0m     \u001b[0;32mreturn\u001b[0m \u001b[0mx\u001b[0m\u001b[0;34m\u001b[0m\u001b[0;34m\u001b[0m\u001b[0m\n\u001b[1;32m     28\u001b[0m \u001b[0;34m\u001b[0m\u001b[0m\n",
      "\u001b[0;31mNameError\u001b[0m: name 'partialSum' is not defined"
     ]
    }
   ],
   "source": [
    "import cv2\n",
    "import os\n",
    "import util\n",
    "import gabor\n",
    "import matplotlib.pyplot as plt\n",
    "import numpy as np\n",
    "\n",
    "# 設置圖像目錄\n",
    "parent_dir = r\"/home/charlie/projects/entropy/raw/Raw_superficial/\"\n",
    "\n",
    "reactive_dir = os.path.join(parent_dir, \"reactive/\")\n",
    "treatment_dir = os.path.join(parent_dir, \"treatment/\")\n",
    "\n",
    "\n",
    "#第一層 列出reactive/treatment\n",
    "for dirname in os.listdir(parent_dir):\n",
    "    if (dirname.endswith(\".DS_Store\")):\n",
    "        continue\n",
    "    \n",
    "    cond_dir = parent_dir + dirname+'/'\n",
    "    print(cond_dir)\n",
    "    \n",
    "    #第二層 列出active/inactive\n",
    "    for dirname2 in os.listdir(cond_dir):\n",
    "        if (dirname2.endswith(\".DS_Store\")):\n",
    "            continue\n",
    "            \n",
    "        amd_dir = cond_dir + dirname2+'/'\n",
    "        print(amd_dir)\n",
    "        \n",
    "        #列出目錄中的所有圖像\n",
    "        for filename in os.listdir(amd_dir):\n",
    "            if not (filename.endswith(\".bmp\") or filename.endswith(\".jpg\")):\n",
    "                continue\n",
    "                \n",
    "            # 組合文件路徑\n",
    "            filepath = os.path.join(amd_dir, filename)\n",
    "            #print(filepath)\n",
    "            \n",
    "            # 讀取圖像\n",
    "            img = cv2.imread(filepath, cv2.IMREAD_GRAYSCALE)\n",
    "            img_gabor = cv2.imread(filepath)\n",
    "            \n",
    "            print(img.shape)\n",
    "            #plt.imshow(img)\n",
    "            \n",
    "            binaryprocess_name = [#('otsu', util.do_otsu),\n",
    "                                #('mean', util.do_mean),\n",
    "                                #('gaussmean', util.do_gaussmean),\n",
    "                                ('percentile', util.do_percentile)]\n",
    "            \n",
    "            for have_gabor_filter in {True, False}:\n",
    "                if have_gabor_filter:\n",
    "                    img1 = gabor.Gabor_process(img_gabor)\n",
    "                    \n",
    "                    imgdir_path = f'/home/charlie/projects/entropy/img/gabor/{dirname}/{dirname2}/'\n",
    "            \n",
    "                    try:\n",
    "                        os.makedirs(imgdir_path)\n",
    "                    # 檔案已存在的例外處理\n",
    "                    except FileExistsError:\n",
    "                        print(\"檔案已存在。\")\n",
    "            \n",
    "                    img_path = imgdir_path + filename\n",
    "                    #cv2.imwrite(img_path,  img1)\n",
    "            \n",
    "                for preprocess_name, preprocess in binaryprocess_name:\n",
    "                    img1 = preprocess(img)\n",
    "                    mypath = \"\"\n",
    "                    if have_gabor_filter:\n",
    "                        mypath += \"gabor_\"\n",
    "                \n",
    "                    mypath += preprocess_name\n",
    "                \n",
    "                    imgdir_path = f'/home/charlie/projects/entropy/img/{mypath}/{dirname}/{dirname2}/'\n",
    "            \n",
    "                    try:\n",
    "                        os.makedirs(imgdir_path)\n",
    "                    # 檔案已存在的例外處理\n",
    "                    except FileExistsError:\n",
    "                        print(\"檔案已存在。\")\n",
    "            \n",
    "                    img_path = imgdir_path + filename\n",
    "                    cv2.imwrite(img_path,  img1)\n",
    "            \n",
    "                    \n",
    "                    \n",
    "\n",
    "\n",
    "            \n",
    "            \n",
    "            "
   ]
  },
  {
   "cell_type": "code",
   "execution_count": null,
   "metadata": {},
   "outputs": [],
   "source": []
  },
  {
   "cell_type": "code",
   "execution_count": null,
   "metadata": {},
   "outputs": [],
   "source": []
  }
 ],
 "metadata": {
  "kernelspec": {
   "display_name": "Python 3 (ipykernel)",
   "language": "python",
   "name": "python3"
  },
  "language_info": {
   "codemirror_mode": {
    "name": "ipython",
    "version": 3
   },
   "file_extension": ".py",
   "mimetype": "text/x-python",
   "name": "python",
   "nbconvert_exporter": "python",
   "pygments_lexer": "ipython3",
   "version": "3.9.13"
  },
  "orig_nbformat": 4,
  "vscode": {
   "interpreter": {
    "hash": "34747cd2c38f1d7760c39bad676fae01c81c3f9ed55bfb80b18cf5cc6926b871"
   }
  }
 },
 "nbformat": 4,
 "nbformat_minor": 2
}
