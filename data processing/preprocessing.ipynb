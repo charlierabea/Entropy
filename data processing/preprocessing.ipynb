{
 "cells": [
  {
   "cell_type": "code",
   "execution_count": 1,
   "metadata": {},
   "outputs": [
    {
     "name": "stdout",
     "output_type": "stream",
     "text": [
      "/home/charlie/projects/entropy/img/Raw_superficial/treatment/\n",
      "/home/charlie/projects/entropy/img/Raw_superficial/treatment/active/\n",
      "/home/charlie/projects/entropy/img/Raw_superficial/treatment/active/1055_4246598-5_20161031_OCT_00008612.bmp_superficial.jpg\n"
     ]
    }
   ],
   "source": [
    "import cv2\n",
    "import os\n",
    "import util\n",
    "import gabor\n",
    "import matplotlib.pyplot as plt\n",
    "\n",
    "# 設置圖像目錄\n",
    "parent_dir = r\"/home/charlie/projects/entropy/img/Raw_superficial/\"\n",
    "\n",
    "reactive_dir = os.path.join(parent_dir, \"reactive/\")\n",
    "treatment_dir = os.path.join(parent_dir, \"treatment/\")\n",
    "\n",
    "\n",
    "#第一層 列出reactive/treatment\n",
    "for dirname in os.listdir(parent_dir):\n",
    "    if (dirname.endswith(\".DS_Store\")):\n",
    "        continue\n",
    "    \n",
    "    cond_dir = parent_dir + dirname+'/'\n",
    "    print(cond_dir)\n",
    "    \n",
    "    #第二層 列出active/inactive\n",
    "    for dirname2 in os.listdir(cond_dir):\n",
    "        if (dirname2.endswith(\".DS_Store\")):\n",
    "            continue\n",
    "            \n",
    "        amd_dir = cond_dir + dirname2+'/'\n",
    "        print(amd_dir)\n",
    "        \n",
    "        #列出目錄中的所有圖像\n",
    "        for filename in os.listdir(amd_dir):\n",
    "            if not (filename.endswith(\".bmp\") or filename.endswith(\".jpg\")):\n",
    "                continue\n",
    "                \n",
    "            # 組合文件路徑\n",
    "            filepath = os.path.join(amd_dir, filename)\n",
    "            print(filepath)\n",
    "            \n",
    "            # 讀取圖像\n",
    "            img = cv2.imread(filepath, cv2.IMREAD_GRAYSCALE)\n",
    "            #plt.imshow(img)\n",
    "            img_path = dirname+ '/' + dirname2+ '/' + filename\n",
    "            \n",
    "            #gabor\n",
    "            i=2\n",
    "            while(i>0):\n",
    "                  if(i==2):\n",
    "                    img_gabor = gabor.Gabor_process(img)\n",
    "                    cv2.imwrite(\"/home/charlie/projects/entropy/img/gabor/otsu/\"+img_path, img_otsu)\n",
    "                    \n",
    "                    #進行高斯模糊\n",
    "            # 進行二值化\n",
    "            i=2\n",
    "            while(i>0):\n",
    "                  if(i==2):\n",
    "                    img_otsu = util.do_otsu(img)\n",
    "                    cv2.imwrite(\"/home/charlie/projects/entropy/img/binarization/otsu/\"+img_path, img_otsu)\n",
    "                    \n",
    "                    #進行高斯模糊\n",
    "                    \n",
    "                    \n",
    "\n",
    "\n",
    "            \n",
    "            \n",
    "            "
   ]
  },
  {
   "cell_type": "code",
   "execution_count": null,
   "metadata": {},
   "outputs": [],
   "source": []
  },
  {
   "cell_type": "code",
   "execution_count": null,
   "metadata": {},
   "outputs": [],
   "source": []
  }
 ],
 "metadata": {
  "kernelspec": {
   "display_name": "Python 3 (ipykernel)",
   "language": "python",
   "name": "python3"
  },
  "language_info": {
   "codemirror_mode": {
    "name": "ipython",
    "version": 3
   },
   "file_extension": ".py",
   "mimetype": "text/x-python",
   "name": "python",
   "nbconvert_exporter": "python",
   "pygments_lexer": "ipython3",
   "version": "3.9.13"
  },
  "orig_nbformat": 4,
  "vscode": {
   "interpreter": {
    "hash": "34747cd2c38f1d7760c39bad676fae01c81c3f9ed55bfb80b18cf5cc6926b871"
   }
  }
 },
 "nbformat": 4,
 "nbformat_minor": 2
}
