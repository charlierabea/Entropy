{
 "cells": [
  {
   "cell_type": "code",
   "execution_count": 21,
   "metadata": {},
   "outputs": [
    {
     "data": {
      "text/plain": [
       "True"
      ]
     },
     "execution_count": 21,
     "metadata": {},
     "output_type": "execute_result"
    },
    {
     "data": {
      "text/plain": [
       "<Figure size 640x480 with 0 Axes>"
      ]
     },
     "metadata": {},
     "output_type": "display_data"
    }
   ],
   "source": [
    "import cv2\n",
    "import os\n",
    "import matplotlib.pyplot as plt\n",
    "\n",
    "image = cv2.imread('/home/charlie/projects/entropy/img/Raw_superficial/reactive/active/35_1172576-1_20170822_OCT_00002576.bmp_superficial.jpg')\n",
    "#plt.imshow(image)\n",
    "img_gabor = Gabor_process(image)\n",
    "cv2.imwrite('/home/charlie/projects/entropy/img/test/gabor2.jpg', img_gabor)"
   ]
  },
  {
   "cell_type": "code",
   "execution_count": 28,
   "metadata": {},
   "outputs": [
    {
     "name": "stdout",
     "output_type": "stream",
     "text": [
      "(741, 741, 3)\n"
     ]
    },
    {
     "ename": "error",
     "evalue": "OpenCV(4.7.0) /io/opencv/modules/imgproc/src/color.simd_helpers.hpp:92: error: (-2:Unspecified error) in function 'cv::impl::{anonymous}::CvtHelper<VScn, VDcn, VDepth, sizePolicy>::CvtHelper(cv::InputArray, cv::OutputArray, int) [with VScn = cv::impl::{anonymous}::Set<3, 4>; VDcn = cv::impl::{anonymous}::Set<1>; VDepth = cv::impl::{anonymous}::Set<0, 2, 5>; cv::impl::{anonymous}::SizePolicy sizePolicy = cv::impl::<unnamed>::NONE; cv::InputArray = const cv::_InputArray&; cv::OutputArray = const cv::_OutputArray&]'\n> Invalid number of channels in input image:\n>     'VScn::contains(scn)'\n> where\n>     'scn' is 1\n",
     "output_type": "error",
     "traceback": [
      "\u001b[0;31m---------------------------------------------------------------------------\u001b[0m",
      "\u001b[0;31merror\u001b[0m                                     Traceback (most recent call last)",
      "\u001b[0;32m/tmp/ipykernel_280497/3016343008.py\u001b[0m in \u001b[0;36m<module>\u001b[0;34m\u001b[0m\n\u001b[1;32m    101\u001b[0m \u001b[0mprint\u001b[0m\u001b[0;34m(\u001b[0m\u001b[0mimg\u001b[0m\u001b[0;34m.\u001b[0m\u001b[0mshape\u001b[0m\u001b[0;34m)\u001b[0m\u001b[0;34m\u001b[0m\u001b[0;34m\u001b[0m\u001b[0m\n\u001b[1;32m    102\u001b[0m \u001b[0;34m\u001b[0m\u001b[0m\n\u001b[0;32m--> 103\u001b[0;31m \u001b[0mimg_gabor\u001b[0m \u001b[0;34m=\u001b[0m \u001b[0mGabor_process\u001b[0m\u001b[0;34m(\u001b[0m\u001b[0mimg\u001b[0m\u001b[0;34m)\u001b[0m\u001b[0;34m\u001b[0m\u001b[0;34m\u001b[0m\u001b[0m\n\u001b[0m\u001b[1;32m    104\u001b[0m \u001b[0mcv2\u001b[0m\u001b[0;34m.\u001b[0m\u001b[0mimwrite\u001b[0m\u001b[0;34m(\u001b[0m\u001b[0;34m'/home/charlie/projects/entropy/img/test/gabor5_mean.jpg'\u001b[0m\u001b[0;34m,\u001b[0m \u001b[0mimg_gabor\u001b[0m\u001b[0;34m)\u001b[0m\u001b[0;34m\u001b[0m\u001b[0;34m\u001b[0m\u001b[0m\n",
      "\u001b[0;32m/tmp/ipykernel_280497/3016343008.py\u001b[0m in \u001b[0;36mGabor_process\u001b[0;34m(img)\u001b[0m\n\u001b[1;32m     92\u001b[0m     \u001b[0mkernel_size\u001b[0m \u001b[0;34m=\u001b[0m\u001b[0;36m5\u001b[0m\u001b[0;34m\u001b[0m\u001b[0;34m\u001b[0m\u001b[0m\n\u001b[1;32m     93\u001b[0m     \u001b[0mout\u001b[0m \u001b[0;34m=\u001b[0m \u001b[0mcv2\u001b[0m\u001b[0;34m.\u001b[0m\u001b[0mGaussianBlur\u001b[0m\u001b[0;34m(\u001b[0m\u001b[0mout\u001b[0m\u001b[0;34m,\u001b[0m\u001b[0;34m(\u001b[0m\u001b[0mkernel_size\u001b[0m\u001b[0;34m,\u001b[0m \u001b[0mkernel_size\u001b[0m\u001b[0;34m)\u001b[0m\u001b[0;34m,\u001b[0m \u001b[0;36m0\u001b[0m\u001b[0;34m)\u001b[0m\u001b[0;34m\u001b[0m\u001b[0;34m\u001b[0m\u001b[0m\n\u001b[0;32m---> 94\u001b[0;31m     \u001b[0mout\u001b[0m \u001b[0;34m=\u001b[0m \u001b[0mcv2\u001b[0m\u001b[0;34m.\u001b[0m\u001b[0mcvtColor\u001b[0m\u001b[0;34m(\u001b[0m\u001b[0mout\u001b[0m\u001b[0;34m,\u001b[0m \u001b[0mcv2\u001b[0m\u001b[0;34m.\u001b[0m\u001b[0mCOLOR_BGR2GRAY\u001b[0m\u001b[0;34m)\u001b[0m\u001b[0;34m\u001b[0m\u001b[0;34m\u001b[0m\u001b[0m\n\u001b[0m\u001b[1;32m     95\u001b[0m     out = cv2.adaptiveThreshold(out, 255, cv2.ADAPTIVE_THRESH_MEAN_C, \n\u001b[1;32m     96\u001b[0m                                 cv2.THRESH_BINARY, kernel_size, 0)\n",
      "\u001b[0;31merror\u001b[0m: OpenCV(4.7.0) /io/opencv/modules/imgproc/src/color.simd_helpers.hpp:92: error: (-2:Unspecified error) in function 'cv::impl::{anonymous}::CvtHelper<VScn, VDcn, VDepth, sizePolicy>::CvtHelper(cv::InputArray, cv::OutputArray, int) [with VScn = cv::impl::{anonymous}::Set<3, 4>; VDcn = cv::impl::{anonymous}::Set<1>; VDepth = cv::impl::{anonymous}::Set<0, 2, 5>; cv::impl::{anonymous}::SizePolicy sizePolicy = cv::impl::<unnamed>::NONE; cv::InputArray = const cv::_InputArray&; cv::OutputArray = const cv::_OutputArray&]'\n> Invalid number of channels in input image:\n>     'VScn::contains(scn)'\n> where\n>     'scn' is 1\n"
     ]
    },
    {
     "data": {
      "text/plain": [
       "<Figure size 640x480 with 0 Axes>"
      ]
     },
     "metadata": {},
     "output_type": "display_data"
    }
   ],
   "source": [
    "import cv2\n",
    "import numpy as np\n",
    "import matplotlib.pyplot as plt\n",
    "\n",
    "# Grayscale\n",
    "def BGR2GRAY(img):\n",
    "    # Grayscale\n",
    "    gray = 0.2126 * img[..., 2] + 0.7152 * img[..., 1] + 0.0722 * img[..., 0]\n",
    "    return gray\n",
    "\n",
    "# Gabor\n",
    "def Gabor_filter(K_size=111, Sigma=10, Gamma=1.2, Lambda=10, Psi=0, angle=0):\n",
    "    # get half size\n",
    "    d = K_size // 2\n",
    "\n",
    "    # prepare kernel\n",
    "    gabor = np.zeros((K_size, K_size), dtype=np.float32)\n",
    "\n",
    "    # each value\n",
    "    for y in range(K_size):\n",
    "        for x in range(K_size):\n",
    "            # distance from center\n",
    "            px = x - d\n",
    "            py = y - d\n",
    "\n",
    "            # degree -> radian\n",
    "            theta = angle / 180. * np.pi\n",
    "\n",
    "            # get kernel x\n",
    "            _x = np.cos(theta) * px + np.sin(theta) * py\n",
    "\n",
    "            # get kernel y\n",
    "            _y = -np.sin(theta) * px + np.cos(theta) * py\n",
    "\n",
    "            # fill kernel\n",
    "            gabor[y, x] = np.exp(-(_x**2 + Gamma**2 * _y**2) / (2 * Sigma**2)) * np.cos(2*np.pi*_x/Lambda + Psi)\n",
    "\n",
    "    # kernel normalization\n",
    "    gabor /= np.sum(np.abs(gabor))\n",
    "\n",
    "    return gabor\n",
    "\n",
    "\n",
    "def Gabor_filtering(gray, K_size=111, Sigma=10, Gamma=1.2, Lambda=10, Psi=0, angle=0):\n",
    "    # get shape\n",
    "    H, W = gray.shape\n",
    "\n",
    "    # padding\n",
    "    gray = np.pad(gray, (K_size//2, K_size//2), 'edge')\n",
    "\n",
    "    # prepare out image\n",
    "    out = np.zeros((H, W), dtype=np.float32)\n",
    "\n",
    "    # get gabor filter\n",
    "    gabor = Gabor_filter(K_size=K_size, Sigma=Sigma, Gamma=Gamma, Lambda=Lambda, Psi=0, angle=angle)\n",
    "\n",
    "    # filtering\n",
    "    for y in range(H):\n",
    "        for x in range(W):\n",
    "            out[y, x] = np.sum(gray[y : y + K_size, x : x + K_size] * gabor)\n",
    "\n",
    "    out = np.clip(out, 0, 255)\n",
    "    out = out.astype(np.uint8)\n",
    "\n",
    "    return out\n",
    "\n",
    "def Gabor_process(img):\n",
    "    # get shape\n",
    "    H, W, _ = img.shape\n",
    "\n",
    "    # gray scale\n",
    "    gray = BGR2GRAY(img).astype(np.float32)\n",
    "\n",
    "    # define angle\n",
    "    As = [0, 45, 90, 135]\n",
    "\n",
    "    # prepare pyplot\n",
    "    plt.subplots_adjust(left=0, right=1, top=1, bottom=0, hspace=0, wspace=0.2)\n",
    "\n",
    "    out = np.zeros([H, W], dtype=np.float32)\n",
    "\n",
    "    # each angle\n",
    "    for i, A in enumerate(As):\n",
    "        # gabor filtering\n",
    "        _out = Gabor_filtering(gray, K_size=111, Sigma=1.5, Gamma=1.2, Lambda=4, angle=A)\n",
    "        # add gabor filtered image\n",
    "        out += _out\n",
    "\n",
    "    # scale normalization\n",
    "    out = out / out.max() * 255\n",
    "    #out = out.astype(np.uint8)\n",
    "    kernel_size =5\n",
    "    out = cv2.GaussianBlur(out,(kernel_size, kernel_size), 0)\n",
    "    out = cv2.cvtColor(out, cv2.COLOR_BGR2GRAY)\n",
    "    out = cv2.adaptiveThreshold(out, 255, cv2.ADAPTIVE_THRESH_MEAN_C, \n",
    "                                cv2.THRESH_BINARY, kernel_size, 0)\n",
    "    return out\n",
    "\n",
    "img= cv2.imread('/home/charlie/projects/entropy/raw/Raw_superficial/reactive/active/113_1296950-5_20180122_OCT_00000944.bmp_superficial.jpg')\n",
    "\n",
    "print(img.shape)\n",
    "\n",
    "img_gabor = Gabor_process(img)\n",
    "cv2.imwrite('/home/charlie/projects/entropy/img/test/gabor5_mean.jpg', img_gabor)"
   ]
  },
  {
   "cell_type": "code",
   "execution_count": 35,
   "metadata": {},
   "outputs": [
    {
     "data": {
      "text/plain": [
       "True"
      ]
     },
     "execution_count": 35,
     "metadata": {},
     "output_type": "execute_result"
    }
   ],
   "source": [
    "img_threshold = cv2.imread('/home/charlie/projects/entropy/raw/Raw_superficial/reactive/active/110_1296950-5_20170919_OCT_00000949.bmp_superficial.jpg')\n",
    "img_threshold = cv2.cvtColor(img_threshold, cv2.COLOR_BGR2GRAY)\n",
    "_, img_threshold = cv2.threshold(img_threshold,0,255,cv2.THRESH_BINARY+cv2.THRESH_OTSU)\n",
    "\n",
    "cv2.imwrite('/home/charlie/projects/entropy/img/test/otsu.jpg', img_threshold)\n",
    "                           "
   ]
  },
  {
   "cell_type": "code",
   "execution_count": null,
   "metadata": {},
   "outputs": [],
   "source": []
  }
 ],
 "metadata": {
  "kernelspec": {
   "display_name": "base",
   "language": "python",
   "name": "python3"
  },
  "language_info": {
   "codemirror_mode": {
    "name": "ipython",
    "version": 3
   },
   "file_extension": ".py",
   "mimetype": "text/x-python",
   "name": "python",
   "nbconvert_exporter": "python",
   "pygments_lexer": "ipython3",
   "version": "3.9.13"
  },
  "orig_nbformat": 4,
  "vscode": {
   "interpreter": {
    "hash": "34747cd2c38f1d7760c39bad676fae01c81c3f9ed55bfb80b18cf5cc6926b871"
   }
  }
 },
 "nbformat": 4,
 "nbformat_minor": 2
}
